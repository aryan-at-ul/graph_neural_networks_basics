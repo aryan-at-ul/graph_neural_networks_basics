{
  "cells": [
    {
      "cell_type": "markdown",
      "metadata": {
        "id": "view-in-github",
        "colab_type": "text"
      },
      "source": [
        "<a href=\"https://colab.research.google.com/github/aryan-at-ul/graph_neural_networks_basics/blob/main/mednist_using_GCNN_ECNN.ipynb\" target=\"_parent\"><img src=\"https://colab.research.google.com/assets/colab-badge.svg\" alt=\"Open In Colab\"/></a>"
      ]
    },
    {
      "cell_type": "markdown",
      "metadata": {
        "id": "NpgMM4icXH-F"
      },
      "source": [
        "## Setup environment"
      ]
    },
    {
      "cell_type": "code",
      "execution_count": null,
      "metadata": {
        "id": "yFgvGvNxXH-G",
        "outputId": "c5b278b2-ee14-4838-83f7-a5e140eccf40",
        "colab": {
          "base_uri": "https://localhost:8080/"
        }
      },
      "outputs": [
        {
          "output_type": "stream",
          "name": "stdout",
          "text": [
            "Traceback (most recent call last):\n",
            "  File \"<string>\", line 1, in <module>\n",
            "ModuleNotFoundError: No module named 'monai'\n",
            "\u001b[K     |████████████████████████████████| 1.1 MB 15.0 MB/s \n",
            "\u001b[?25h"
          ]
        }
      ],
      "source": [
        "!python -c \"import monai\" || pip install -q \"monai-weekly[pillow, tqdm]\"\n",
        "!python -c \"import matplotlib\" || pip install -q matplotlib\n",
        "%matplotlib inline"
      ]
    },
    {
      "cell_type": "markdown",
      "metadata": {
        "id": "UtdIFHvTXH-G"
      },
      "source": [
        "## Setup imports"
      ]
    },
    {
      "cell_type": "code",
      "execution_count": null,
      "metadata": {
        "tags": [],
        "id": "84w9PPZhXH-G",
        "outputId": "659d03ff-d198-462c-a18d-d57dd0660fbc",
        "colab": {
          "base_uri": "https://localhost:8080/"
        }
      },
      "outputs": [
        {
          "output_type": "stream",
          "name": "stdout",
          "text": [
            "MONAI version: 1.1.dev2239\n",
            "Numpy version: 1.21.6\n",
            "Pytorch version: 1.12.1+cu113\n",
            "MONAI flags: HAS_EXT = False, USE_COMPILED = False, USE_META_DICT = False\n",
            "MONAI rev id: 13b24fa92b9d98bd0dc6d5cdcb52504fd09e297b\n",
            "MONAI __file__: /usr/local/lib/python3.7/dist-packages/monai/__init__.py\n",
            "\n",
            "Optional dependencies:\n",
            "Pytorch Ignite version: NOT INSTALLED or UNKNOWN VERSION.\n",
            "Nibabel version: 3.0.2\n",
            "scikit-image version: 0.18.3\n",
            "Pillow version: 7.1.2\n",
            "Tensorboard version: 2.8.0\n",
            "gdown version: 4.4.0\n",
            "TorchVision version: 0.13.1+cu113\n",
            "tqdm version: 4.64.1\n",
            "lmdb version: 0.99\n",
            "psutil version: 5.4.8\n",
            "pandas version: 1.3.5\n",
            "einops version: NOT INSTALLED or UNKNOWN VERSION.\n",
            "transformers version: NOT INSTALLED or UNKNOWN VERSION.\n",
            "mlflow version: NOT INSTALLED or UNKNOWN VERSION.\n",
            "pynrrd version: NOT INSTALLED or UNKNOWN VERSION.\n",
            "\n",
            "For details about installing the optional dependencies, please visit:\n",
            "    https://docs.monai.io/en/latest/installation.html#installing-the-recommended-dependencies\n",
            "\n"
          ]
        }
      ],
      "source": [
        "# Copyright 2020 MONAI Consortium\n",
        "# Licensed under the Apache License, Version 2.0 (the \"License\");\n",
        "# you may not use this file except in compliance with the License.\n",
        "# You may obtain a copy of the License at\n",
        "#     http://www.apache.org/licenses/LICENSE-2.0\n",
        "# Unless required by applicable law or agreed to in writing, software\n",
        "# distributed under the License is distributed on an \"AS IS\" BASIS,\n",
        "# WITHOUT WARRANTIES OR CONDITIONS OF ANY KIND, either express or implied.\n",
        "# See the License for the specific language governing permissions and\n",
        "# limitations under the License.\n",
        "\n",
        "import os\n",
        "import shutil\n",
        "import tempfile\n",
        "import matplotlib.pyplot as plt\n",
        "import PIL\n",
        "import torch\n",
        "import numpy as np\n",
        "from sklearn.metrics import classification_report\n",
        "\n",
        "from monai.apps import download_and_extract\n",
        "from monai.config import print_config\n",
        "from monai.data import decollate_batch, DataLoader\n",
        "from monai.metrics import ROCAUCMetric\n",
        "from monai.networks.nets import DenseNet121\n",
        "from monai.networks.nets import ResNet\n",
        "from monai.networks.nets import EfficientNetBN\n",
        "from monai.transforms import (\n",
        "    Activations,\n",
        "    EnsureChannelFirst,\n",
        "    AsDiscrete,\n",
        "    Compose,\n",
        "    LoadImage,\n",
        "    RandFlip,\n",
        "    RandRotate,\n",
        "    RandZoom,\n",
        "    ScaleIntensity,\n",
        ")\n",
        "from monai.utils import set_determinism\n",
        "\n",
        "print_config()"
      ]
    },
    {
      "cell_type": "markdown",
      "metadata": {
        "id": "2x-Lem1SXH-H"
      },
      "source": [
        "## Setup data directory\n",
        "\n",
        "You can specify a directory with the `MONAI_DATA_DIRECTORY` environment variable.  \n",
        "This allows you to save results and reuse downloads.  \n",
        "If not specified a temporary directory will be used."
      ]
    },
    {
      "cell_type": "code",
      "execution_count": null,
      "metadata": {
        "tags": [],
        "id": "bkNS-pM7XH-H",
        "outputId": "7cfbb61b-6893-49d0-a41f-7292504cf85b",
        "colab": {
          "base_uri": "https://localhost:8080/"
        }
      },
      "outputs": [
        {
          "output_type": "stream",
          "name": "stdout",
          "text": [
            "/tmp/tmpnsvf8gpg\n"
          ]
        }
      ],
      "source": [
        "directory = os.environ.get(\"MONAI_DATA_DIRECTORY\")\n",
        "root_dir = tempfile.mkdtemp() if directory is None else directory\n",
        "print(root_dir)"
      ]
    },
    {
      "cell_type": "code",
      "execution_count": null,
      "metadata": {
        "tags": [],
        "id": "NnhDBzSPXH-I",
        "outputId": "e2a214e5-3ac5-4035-ec85-297ac95dfcf9",
        "colab": {
          "base_uri": "https://localhost:8080/"
        }
      },
      "outputs": [
        {
          "output_type": "stream",
          "name": "stderr",
          "text": [
            "MedNIST.tar.gz: 59.0MB [00:03, 20.6MB/s]"
          ]
        },
        {
          "output_type": "stream",
          "name": "stdout",
          "text": [
            "2022-09-30 19:50:10,343 - INFO - Downloaded: /tmp/tmpnsvf8gpg/MedNIST.tar.gz\n"
          ]
        },
        {
          "output_type": "stream",
          "name": "stderr",
          "text": [
            "\n"
          ]
        },
        {
          "output_type": "stream",
          "name": "stdout",
          "text": [
            "2022-09-30 19:50:10,466 - INFO - Verified 'MedNIST.tar.gz', md5: 0bc7306e7427e00ad1c5526a6677552d.\n",
            "2022-09-30 19:50:10,468 - INFO - Writing into directory: /tmp/tmpnsvf8gpg.\n"
          ]
        }
      ],
      "source": [
        "resource = \"https://github.com/Project-MONAI/MONAI-extra-test-data/releases/download/0.8.1/MedNIST.tar.gz\"\n",
        "md5 = \"0bc7306e7427e00ad1c5526a6677552d\"\n",
        "\n",
        "compressed_file = os.path.join(root_dir, \"MedNIST.tar.gz\")\n",
        "data_dir = os.path.join(root_dir, \"MedNIST\")\n",
        "if not os.path.exists(data_dir):\n",
        "    download_and_extract(resource, compressed_file, root_dir, md5)"
      ]
    },
    {
      "cell_type": "markdown",
      "metadata": {
        "id": "9xCxgejZXH-J"
      },
      "source": [
        "## Set deterministic training for reproducibility"
      ]
    },
    {
      "cell_type": "code",
      "execution_count": null,
      "metadata": {
        "id": "IZVqe06kXH-J"
      },
      "outputs": [],
      "source": [
        "set_determinism(seed=0)"
      ]
    },
    {
      "cell_type": "markdown",
      "metadata": {
        "id": "FVkbhSc1XH-J"
      },
      "source": [
        "## Read image filenames from the dataset folders\n",
        "\n",
        "First of all, check the dataset files and show some statistics.  \n",
        "There are 6 folders in the dataset: Hand, AbdomenCT, CXR, ChestCT, BreastMRI, HeadCT,  \n",
        "which should be used as the labels to train our classification model."
      ]
    },
    {
      "cell_type": "code",
      "execution_count": null,
      "metadata": {
        "tags": [],
        "id": "GBAnU15_XH-J",
        "outputId": "20a2d827-fac8-4900-8d96-ec6f1d72628a",
        "colab": {
          "base_uri": "https://localhost:8080/"
        }
      },
      "outputs": [
        {
          "output_type": "stream",
          "name": "stdout",
          "text": [
            "Total image count: 58954\n",
            "Image dimensions: 64 x 64\n",
            "Label names: ['AbdomenCT', 'BreastMRI', 'CXR', 'ChestCT', 'Hand', 'HeadCT']\n",
            "Label counts: [10000, 8954, 10000, 10000, 10000, 10000]\n"
          ]
        }
      ],
      "source": [
        "class_names = sorted(x for x in os.listdir(data_dir)\n",
        "                     if os.path.isdir(os.path.join(data_dir, x)))\n",
        "num_class = len(class_names)\n",
        "image_files = [\n",
        "    [\n",
        "        os.path.join(data_dir, class_names[i], x)\n",
        "        for x in os.listdir(os.path.join(data_dir, class_names[i]))\n",
        "    ]\n",
        "    for i in range(num_class)\n",
        "]\n",
        "num_each = [len(image_files[i]) for i in range(num_class)]\n",
        "image_files_list = []\n",
        "image_class = []\n",
        "for i in range(num_class):\n",
        "    image_files_list.extend(image_files[i])\n",
        "    image_class.extend([i] * num_each[i])\n",
        "num_total = len(image_class)\n",
        "image_width, image_height = PIL.Image.open(image_files_list[0]).size\n",
        "\n",
        "print(f\"Total image count: {num_total}\")\n",
        "print(f\"Image dimensions: {image_width} x {image_height}\")\n",
        "print(f\"Label names: {class_names}\")\n",
        "print(f\"Label counts: {num_each}\")"
      ]
    },
    {
      "cell_type": "markdown",
      "metadata": {
        "id": "0C3cZculXH-J"
      },
      "source": [
        "## Randomly pick images from the dataset to visualize and check"
      ]
    },
    {
      "cell_type": "code",
      "execution_count": null,
      "metadata": {
        "id": "Ec3jIC9DXH-J",
        "outputId": "8f744e63-a9d5-4d23-ea04-744e9bb8dd6e",
        "colab": {
          "base_uri": "https://localhost:8080/",
          "height": 387
        }
      },
      "outputs": [
        {
          "output_type": "display_data",
          "data": {
            "text/plain": [
              "<Figure size 576x576 with 10 Axes>"
            ],
            "image/png": "[encoded data removed]"
          },
          "metadata": {
            "needs_background": "light"
          }
        }
      ],
      "source": [
        "plt.subplots(2, 5, figsize=(8, 8))\n",
        "for i, k in enumerate(np.random.randint(num_total, size=10)):\n",
        "    im = PIL.Image.open(image_files_list[k])\n",
        "    arr = np.array(im)\n",
        "    plt.subplot(2, 5, i + 1)\n",
        "    plt.xlabel(class_names[image_class[k]])\n",
        "    plt.imshow(arr, cmap=\"gray\", vmin=0, vmax=255)\n",
        "plt.tight_layout()\n",
        "plt.show()"
      ]
    },
    {
      "cell_type": "markdown",
      "metadata": {
        "id": "mSOKl90xXH-K"
      },
      "source": [
        "## Prepare training, validation and test data lists\n",
        "\n",
        "Randomly select 10% of the dataset as validation and 10% as test."
      ]
    },
    {
      "cell_type": "code",
      "execution_count": null,
      "metadata": {
        "tags": [],
        "id": "H76Upye_XH-K",
        "outputId": "c85404c5-c7f2-482f-fc41-cd1529642cb8",
        "colab": {
          "base_uri": "https://localhost:8080/"
        }
      },
      "outputs": [
        {
          "output_type": "stream",
          "name": "stdout",
          "text": [
            "Training count: 47164, Validation count: 5895, Test count: 5895\n"
          ]
        }
      ],
      "source": [
        "val_frac = 0.1\n",
        "test_frac = 0.1\n",
        "length = len(image_files_list)\n",
        "indices = np.arange(length)\n",
        "np.random.shuffle(indices)\n",
        "\n",
        "test_split = int(test_frac * length)\n",
        "val_split = int(val_frac * length) + test_split\n",
        "test_indices = indices[:test_split]\n",
        "val_indices = indices[test_split:val_split]\n",
        "train_indices = indices[val_split:]\n",
        "\n",
        "train_x = [image_files_list[i] for i in train_indices]\n",
        "train_y = [image_class[i] for i in train_indices]\n",
        "val_x = [image_files_list[i] for i in val_indices]\n",
        "val_y = [image_class[i] for i in val_indices]\n",
        "test_x = [image_files_list[i] for i in test_indices]\n",
        "test_y = [image_class[i] for i in test_indices]\n",
        "\n",
        "print(\n",
        "    f\"Training count: {len(train_x)}, Validation count: \"\n",
        "    f\"{len(val_x)}, Test count: {len(test_x)}\")"
      ]
    },
    {
      "cell_type": "markdown",
      "metadata": {
        "id": "JQzjC5dyXH-K"
      },
      "source": [
        "## Define MONAI transforms, Dataset and Dataloader to pre-process data"
      ]
    },
    {
      "cell_type": "code",
      "execution_count": null,
      "metadata": {
        "id": "csLFxT8hXH-K"
      },
      "outputs": [],
      "source": [
        "train_transforms = Compose(\n",
        "    [\n",
        "        LoadImage(image_only=True),\n",
        "        EnsureChannelFirst(),\n",
        "        ScaleIntensity(),\n",
        "        RandRotate(range_x=np.pi / 12, prob=0.5, keep_size=True),\n",
        "        RandFlip(spatial_axis=0, prob=0.5),\n",
        "        RandZoom(min_zoom=0.9, max_zoom=1.1, prob=0.5),\n",
        "    ]\n",
        ")\n",
        "\n",
        "val_transforms = Compose(\n",
        "    [LoadImage(image_only=True), EnsureChannelFirst(), ScaleIntensity()])\n",
        "\n",
        "y_pred_trans = Compose([Activations(softmax=True)])\n",
        "y_trans = Compose([AsDiscrete(to_onehot=num_class)])"
      ]
    },
    {
      "cell_type": "code",
      "execution_count": null,
      "metadata": {
        "id": "mLk0i-43XH-K",
        "colab": {
          "base_uri": "https://localhost:8080/"
        },
        "outputId": "643fba51-1457-4ae7-e9c4-59cdc02b3c63"
      },
      "outputs": [
        {
          "output_type": "stream",
          "name": "stderr",
          "text": [
            "/usr/local/lib/python3.7/dist-packages/torch/utils/data/dataloader.py:566: UserWarning: This DataLoader will create 10 worker processes in total. Our suggested max number of worker in current system is 2, which is smaller than what this DataLoader is going to create. Please be aware that excessive worker creation might get DataLoader running slow or even freeze, lower the worker number to avoid potential slowness/freeze if necessary.\n",
            "  cpuset_checked))\n"
          ]
        }
      ],
      "source": [
        "class MedNISTDataset(torch.utils.data.Dataset):\n",
        "    def __init__(self, image_files, labels, transforms):\n",
        "        self.image_files = image_files\n",
        "        self.labels = labels\n",
        "        self.transforms = transforms\n",
        "\n",
        "    def __len__(self):\n",
        "        return len(self.image_files)\n",
        "\n",
        "    def __getitem__(self, index):\n",
        "        return self.transforms(self.image_files[index]), self.labels[index]\n",
        "\n",
        "\n",
        "train_ds = MedNISTDataset(train_x, train_y, train_transforms)\n",
        "train_loader = DataLoader(\n",
        "    train_ds, batch_size=300, shuffle=True, num_workers=10)\n",
        "\n",
        "val_ds = MedNISTDataset(val_x, val_y, val_transforms)\n",
        "val_loader = DataLoader(\n",
        "    val_ds, batch_size=300, num_workers=10)\n",
        "\n",
        "test_ds = MedNISTDataset(test_x, test_y, val_transforms)\n",
        "test_loader = DataLoader(\n",
        "    test_ds, batch_size=300, num_workers=10)"
      ]
    },
    {
      "cell_type": "code",
      "source": [
        "from __future__ import print_function\n",
        "import argparse\n",
        "import torch\n",
        "import torch.nn as nn\n",
        "import torch.nn.functional as F\n",
        "import torch.optim as optim\n",
        "from torchvision import datasets, transforms\n",
        "import numpy as np\n",
        "from scipy.spatial.distance import cdist"
      ],
      "metadata": {
        "id": "G2-E9x5fbQFo"
      },
      "execution_count": null,
      "outputs": []
    },
    {
      "cell_type": "code",
      "source": [
        "class GCNN_ECNN(nn.Module):\n",
        "    def __init__(self, img_size=64, pred_edge=False):\n",
        "        super(GCNN_ECNN, self).__init__()\n",
        "        self.pred_edge = pred_edge\n",
        "        N = img_size ** 2\n",
        "        self.fc = nn.Linear(N, 6, bias=True)\n",
        "        if pred_edge:\n",
        "            col, row = np.meshgrid(np.arange(img_size), np.arange(img_size))\n",
        "            coord = np.stack((col, row), axis=2).reshape(-1, 2)\n",
        "            coord = (coord - np.mean(coord, axis=0)) / (np.std(coord, axis=0) + 1e-5)\n",
        "            coord = torch.from_numpy(coord).float()  # 784,2\n",
        "            coord = torch.cat((coord.unsqueeze(0).repeat(N, 1,  1),\n",
        "                                    coord.unsqueeze(1).repeat(1, N, 1)), dim=2)\n",
        "            #coord = torch.abs(coord[:, :, [0, 1]] - coord[:, :, [2, 3]]) # this should have worked\n",
        "            self.pred_edge_fc = nn.Sequential(nn.Linear(4, 64), # this can be a hyperparameter \n",
        "                                              nn.ReLU(),\n",
        "                                              nn.Linear(64, 1),\n",
        "                                              nn.Tanh())\n",
        "            self.register_buffer('coord', coord)\n",
        "        else:\n",
        "            A = self.precompute_adjacency_images(img_size)\n",
        "            self.register_buffer('A', A)\n",
        "\n",
        "\n",
        "    @staticmethod\n",
        "    def precompute_adjacency_images(img_size):\n",
        "        col, row = np.meshgrid(np.arange(img_size), np.arange(img_size))\n",
        "        coord = np.stack((col, row), axis=2).reshape(-1, 2) / img_size\n",
        "        dist = cdist(coord, coord)  \n",
        "        sigma = 0.05 * np.pi\n",
        "\n",
        "        \n",
        "        A = np.exp(- dist / sigma ** 2)\n",
        "        print('WARNING: try squaring the dist to make it a Gaussian')\n",
        "            \n",
        "        A[A < 0.01] = 0\n",
        "        A = torch.from_numpy(A).float()\n",
        "\n",
        "        # Normalization as per (Kipf & Welling, ICLR 2017)\n",
        "        D = A.sum(1)  # nodes degree (N,)\n",
        "        D_hat = (D + 1e-5) ** (-0.5)\n",
        "        A_hat = D_hat.view(-1, 1) * A * D_hat.view(1, -1)  # N,N\n",
        "\n",
        "        # Some additional trick I found to be useful\n",
        "        A_hat[A_hat > 0.0001] = A_hat[A_hat > 0.0001] - 0.2\n",
        "\n",
        "        # print(A_hat[:10, :10])\n",
        "        return A_hat\n",
        "\n",
        "    def forward(self, x):\n",
        "        B = x.size(0)\n",
        "        if self.pred_edge:\n",
        "            self.A = self.pred_edge_fc(self.coord).squeeze()\n",
        "\n",
        "        avg_neighbor_features = (torch.bmm(self.A.unsqueeze(0).expand(B, -1, -1),\n",
        "                                 x.view(B, -1, 1)).view(B, -1))\n",
        "        return self.fc(avg_neighbor_features)\n",
        "\n"
      ],
      "metadata": {
        "id": "v1fny86AbYsq"
      },
      "execution_count": null,
      "outputs": []
    },
    {
      "cell_type": "code",
      "source": [
        "model = GCNN_ECNN(pred_edge=False).to(device)"
      ],
      "metadata": {
        "id": "_ZRSsA_6btz9",
        "colab": {
          "base_uri": "https://localhost:8080/"
        },
        "outputId": "c4089958-7474-4878-bd09-e34c6e8e9dc8"
      },
      "execution_count": null,
      "outputs": [
        {
          "output_type": "stream",
          "name": "stdout",
          "text": [
            "WARNING: try squaring the dist to make it a Gaussian\n",
            "tensor([[-0.0217, -0.1157, -0.1579, -0.1783, -0.1887, -0.1941, -0.1969, -0.1983,\n",
            "          0.0000,  0.0000],\n",
            "        [-0.1157, -0.0586, -0.1293, -0.1637, -0.1811, -0.1900, -0.1947, -0.1972,\n",
            "         -0.1985,  0.0000],\n",
            "        [-0.1579, -0.1293, -0.0746, -0.1356, -0.1664, -0.1823, -0.1907, -0.1950,\n",
            "         -0.1974, -0.1986],\n",
            "        [-0.1783, -0.1637, -0.1356, -0.0825, -0.1387, -0.1678, -0.1830, -0.1910,\n",
            "         -0.1952, -0.1975],\n",
            "        [-0.1887, -0.1811, -0.1664, -0.1387, -0.0866, -0.1404, -0.1685, -0.1833,\n",
            "         -0.1911, -0.1953],\n",
            "        [-0.1941, -0.1900, -0.1823, -0.1678, -0.1404, -0.0887, -0.1412, -0.1688,\n",
            "         -0.1835, -0.1912],\n",
            "        [-0.1969, -0.1947, -0.1907, -0.1830, -0.1685, -0.1412, -0.0898, -0.1416,\n",
            "         -0.1690, -0.1835],\n",
            "        [-0.1983, -0.1972, -0.1950, -0.1910, -0.1833, -0.1688, -0.1416, -0.0901,\n",
            "         -0.1416, -0.1690],\n",
            "        [ 0.0000, -0.1985, -0.1974, -0.1952, -0.1911, -0.1835, -0.1690, -0.1416,\n",
            "         -0.0901, -0.1416],\n",
            "        [ 0.0000,  0.0000, -0.1986, -0.1975, -0.1953, -0.1912, -0.1835, -0.1690,\n",
            "         -0.1416, -0.0901]])\n"
          ]
        }
      ]
    },
    {
      "cell_type": "markdown",
      "metadata": {
        "id": "trgMBmQiXH-K"
      },
      "source": [
        "## Define network and optimizer\n",
        "\n",
        "1. Set learning rate for how much the model is updated per batch.\n",
        "1. Set total epoch number, as we have shuffle and random transforms, so the training data of every epoch is different.  \n",
        "And as this is just a get start tutorial, let's just train 4 epochs.  \n",
        "If train 10 epochs, the model can achieve 100% accuracy on test dataset. \n",
        "1. Use DenseNet from MONAI and move to GPU devide, this DenseNet can support both 2D and 3D classification tasks.\n",
        "1. Use Adam optimizer."
      ]
    },
    {
      "cell_type": "code",
      "execution_count": null,
      "metadata": {
        "id": "FIPJZj1YXH-K"
      },
      "outputs": [],
      "source": [
        "device = torch.device(\"cuda\" if torch.cuda.is_available() else \"cpu\")\n",
        "loss_function = torch.nn.CrossEntropyLoss()\n",
        "optimizer = torch.optim.Adam(model.parameters(), 1e-5)\n",
        "max_epochs = 4\n",
        "val_interval = 1\n",
        "auc_metric = ROCAUCMetric() "
      ]
    },
    {
      "cell_type": "markdown",
      "metadata": {
        "id": "_LOruqnRXH-K"
      },
      "source": [
        "## Model training\n",
        "\n",
        "Execute a typical PyTorch training that run epoch loop and step loop, and do validation after every epoch.  \n",
        "Will save the model weights to file if got best validation accuracy."
      ]
    },
    {
      "cell_type": "code",
      "execution_count": null,
      "metadata": {
        "tags": [],
        "id": "I-I3nWziXH-K",
        "outputId": "c865c2d0-8b53-4584-ee5e-516fd3b13604",
        "colab": {
          "base_uri": "https://localhost:8080/"
        }
      },
      "outputs": [
        {
          "output_type": "stream",
          "name": "stdout",
          "text": [
            "----------\n",
            "epoch 1/4\n",
            "1/157, train_loss: 8.8944\n",
            "2/157, train_loss: 9.7420\n",
            "3/157, train_loss: 8.6353\n",
            "4/157, train_loss: 7.2627\n",
            "5/157, train_loss: 7.7675\n",
            "6/157, train_loss: 6.7032\n",
            "7/157, train_loss: 6.4120\n",
            "8/157, train_loss: 6.1093\n",
            "9/157, train_loss: 5.9155\n",
            "10/157, train_loss: 5.4245\n",
            "11/157, train_loss: 5.3319\n",
            "12/157, train_loss: 4.9004\n",
            "13/157, train_loss: 4.5078\n",
            "14/157, train_loss: 4.1874\n",
            "15/157, train_loss: 4.5294\n",
            "16/157, train_loss: 4.3284\n",
            "17/157, train_loss: 4.3055\n",
            "18/157, train_loss: 4.3462\n",
            "19/157, train_loss: 4.1978\n",
            "20/157, train_loss: 3.9529\n",
            "21/157, train_loss: 4.2811\n",
            "22/157, train_loss: 4.0469\n",
            "23/157, train_loss: 3.9776\n",
            "24/157, train_loss: 3.6920\n",
            "25/157, train_loss: 3.5757\n",
            "26/157, train_loss: 3.6031\n",
            "27/157, train_loss: 3.5999\n",
            "28/157, train_loss: 3.3867\n",
            "29/157, train_loss: 3.4299\n",
            "30/157, train_loss: 3.3475\n",
            "31/157, train_loss: 3.3791\n",
            "32/157, train_loss: 3.3044\n",
            "33/157, train_loss: 3.3851\n",
            "34/157, train_loss: 3.2972\n",
            "35/157, train_loss: 3.3887\n",
            "36/157, train_loss: 2.9860\n",
            "37/157, train_loss: 2.9210\n",
            "38/157, train_loss: 3.1060\n",
            "39/157, train_loss: 2.7864\n",
            "40/157, train_loss: 2.5313\n",
            "41/157, train_loss: 2.6148\n",
            "42/157, train_loss: 2.7062\n",
            "43/157, train_loss: 2.5312\n",
            "44/157, train_loss: 2.4796\n",
            "45/157, train_loss: 2.5609\n",
            "46/157, train_loss: 2.3985\n",
            "47/157, train_loss: 2.2467\n",
            "48/157, train_loss: 2.3089\n",
            "49/157, train_loss: 2.1976\n",
            "50/157, train_loss: 2.1615\n",
            "51/157, train_loss: 2.2226\n",
            "52/157, train_loss: 2.0703\n",
            "53/157, train_loss: 2.0064\n",
            "54/157, train_loss: 1.9836\n",
            "55/157, train_loss: 1.9844\n",
            "56/157, train_loss: 2.0483\n",
            "57/157, train_loss: 1.9509\n",
            "58/157, train_loss: 1.8705\n",
            "59/157, train_loss: 1.9200\n",
            "60/157, train_loss: 1.7850\n",
            "61/157, train_loss: 1.8124\n",
            "62/157, train_loss: 1.7079\n",
            "63/157, train_loss: 1.8772\n",
            "64/157, train_loss: 1.6767\n",
            "65/157, train_loss: 1.7148\n",
            "66/157, train_loss: 1.5793\n",
            "67/157, train_loss: 1.5367\n",
            "68/157, train_loss: 1.5528\n",
            "69/157, train_loss: 1.6121\n",
            "70/157, train_loss: 1.6433\n",
            "71/157, train_loss: 1.5178\n",
            "72/157, train_loss: 1.5046\n",
            "73/157, train_loss: 1.4288\n",
            "74/157, train_loss: 1.4140\n",
            "75/157, train_loss: 1.2884\n",
            "76/157, train_loss: 1.4010\n",
            "77/157, train_loss: 1.3909\n",
            "78/157, train_loss: 1.3335\n",
            "79/157, train_loss: 1.3573\n",
            "80/157, train_loss: 1.3343\n",
            "81/157, train_loss: 1.3296\n",
            "82/157, train_loss: 1.2750\n",
            "83/157, train_loss: 1.2790\n",
            "84/157, train_loss: 1.2697\n",
            "85/157, train_loss: 1.2694\n",
            "86/157, train_loss: 1.2138\n",
            "87/157, train_loss: 1.2060\n",
            "88/157, train_loss: 1.2189\n",
            "89/157, train_loss: 1.3216\n",
            "90/157, train_loss: 1.2236\n",
            "91/157, train_loss: 1.2530\n",
            "92/157, train_loss: 1.2436\n",
            "93/157, train_loss: 1.1959\n",
            "94/157, train_loss: 1.1399\n",
            "95/157, train_loss: 1.1707\n",
            "96/157, train_loss: 1.1078\n",
            "97/157, train_loss: 1.0892\n",
            "98/157, train_loss: 1.2082\n",
            "99/157, train_loss: 1.0813\n",
            "100/157, train_loss: 1.2018\n",
            "101/157, train_loss: 1.0766\n",
            "102/157, train_loss: 1.1408\n",
            "103/157, train_loss: 0.9721\n",
            "104/157, train_loss: 1.1038\n",
            "105/157, train_loss: 1.1068\n",
            "106/157, train_loss: 1.1565\n",
            "107/157, train_loss: 1.1314\n",
            "108/157, train_loss: 1.0257\n",
            "109/157, train_loss: 1.0799\n",
            "110/157, train_loss: 1.0668\n",
            "111/157, train_loss: 1.0102\n",
            "112/157, train_loss: 1.1600\n",
            "113/157, train_loss: 1.1423\n",
            "114/157, train_loss: 1.0348\n",
            "115/157, train_loss: 1.0269\n",
            "116/157, train_loss: 1.0310\n",
            "117/157, train_loss: 1.0805\n",
            "118/157, train_loss: 1.0362\n",
            "119/157, train_loss: 1.0502\n",
            "120/157, train_loss: 1.0591\n",
            "121/157, train_loss: 1.0061\n",
            "122/157, train_loss: 0.9692\n",
            "123/157, train_loss: 1.0037\n",
            "124/157, train_loss: 1.0577\n",
            "125/157, train_loss: 0.9214\n",
            "126/157, train_loss: 1.0309\n",
            "127/157, train_loss: 1.0460\n",
            "128/157, train_loss: 0.9221\n",
            "129/157, train_loss: 1.0224\n",
            "130/157, train_loss: 0.9605\n",
            "131/157, train_loss: 0.8632\n",
            "132/157, train_loss: 0.9681\n",
            "133/157, train_loss: 0.8992\n",
            "134/157, train_loss: 0.9916\n",
            "135/157, train_loss: 0.9809\n",
            "136/157, train_loss: 0.9611\n",
            "137/157, train_loss: 0.9570\n",
            "138/157, train_loss: 0.9392\n",
            "139/157, train_loss: 1.0192\n",
            "140/157, train_loss: 0.8895\n",
            "141/157, train_loss: 0.8816\n",
            "142/157, train_loss: 0.8801\n",
            "143/157, train_loss: 0.8438\n",
            "144/157, train_loss: 0.8850\n",
            "145/157, train_loss: 0.9224\n",
            "146/157, train_loss: 0.9531\n",
            "147/157, train_loss: 0.7690\n",
            "148/157, train_loss: 0.7241\n",
            "149/157, train_loss: 0.9418\n",
            "150/157, train_loss: 0.9060\n",
            "151/157, train_loss: 0.8749\n",
            "152/157, train_loss: 0.8815\n",
            "153/157, train_loss: 0.8171\n",
            "154/157, train_loss: 0.7645\n",
            "155/157, train_loss: 0.8866\n",
            "156/157, train_loss: 0.9339\n",
            "157/157, train_loss: 0.9437\n",
            "158/157, train_loss: 0.7724\n",
            "epoch 1 average loss: 2.1582\n",
            "saved new best metric model\n",
            "current epoch: 1 current AUC: 0.9386 current accuracy: 0.6733 best AUC: 0.9386 at epoch: 1\n",
            "----------\n",
            "epoch 2/4\n",
            "1/157, train_loss: 0.8550\n",
            "2/157, train_loss: 0.7257\n",
            "3/157, train_loss: 0.8932\n",
            "4/157, train_loss: 0.8531\n",
            "5/157, train_loss: 0.8477\n",
            "6/157, train_loss: 0.9305\n",
            "7/157, train_loss: 0.7973\n",
            "8/157, train_loss: 0.8572\n",
            "9/157, train_loss: 0.7657\n",
            "10/157, train_loss: 0.8024\n",
            "11/157, train_loss: 0.8210\n",
            "12/157, train_loss: 0.7563\n",
            "13/157, train_loss: 0.8029\n",
            "14/157, train_loss: 0.7924\n",
            "15/157, train_loss: 0.8023\n",
            "16/157, train_loss: 0.8044\n",
            "17/157, train_loss: 0.7364\n",
            "18/157, train_loss: 0.8427\n",
            "19/157, train_loss: 0.8027\n",
            "20/157, train_loss: 0.7063\n",
            "21/157, train_loss: 0.7249\n",
            "22/157, train_loss: 0.7637\n",
            "23/157, train_loss: 0.7534\n",
            "24/157, train_loss: 1.0133\n",
            "25/157, train_loss: 0.8347\n",
            "26/157, train_loss: 0.9482\n",
            "27/157, train_loss: 0.8391\n",
            "28/157, train_loss: 0.7872\n",
            "29/157, train_loss: 0.8155\n",
            "30/157, train_loss: 0.6908\n",
            "31/157, train_loss: 0.7103\n",
            "32/157, train_loss: 0.7800\n",
            "33/157, train_loss: 0.7970\n",
            "34/157, train_loss: 0.8062\n",
            "35/157, train_loss: 0.6934\n",
            "36/157, train_loss: 0.7417\n",
            "37/157, train_loss: 0.7604\n",
            "38/157, train_loss: 0.8865\n",
            "39/157, train_loss: 0.7250\n",
            "40/157, train_loss: 0.7498\n",
            "41/157, train_loss: 0.7003\n",
            "42/157, train_loss: 0.7120\n",
            "43/157, train_loss: 0.6426\n",
            "44/157, train_loss: 0.7012\n",
            "45/157, train_loss: 0.8026\n",
            "46/157, train_loss: 0.8043\n",
            "47/157, train_loss: 0.6482\n",
            "48/157, train_loss: 0.6361\n",
            "49/157, train_loss: 0.7075\n",
            "50/157, train_loss: 0.6286\n",
            "51/157, train_loss: 0.7099\n",
            "52/157, train_loss: 0.9145\n",
            "53/157, train_loss: 0.6647\n",
            "54/157, train_loss: 0.7168\n",
            "55/157, train_loss: 0.7550\n",
            "56/157, train_loss: 0.7660\n",
            "57/157, train_loss: 0.7090\n",
            "58/157, train_loss: 0.7580\n",
            "59/157, train_loss: 0.7164\n",
            "60/157, train_loss: 0.8177\n",
            "61/157, train_loss: 0.6927\n",
            "62/157, train_loss: 0.6896\n",
            "63/157, train_loss: 0.6620\n",
            "64/157, train_loss: 0.6347\n",
            "65/157, train_loss: 0.6754\n",
            "66/157, train_loss: 0.6473\n",
            "67/157, train_loss: 0.6923\n",
            "68/157, train_loss: 0.7453\n",
            "69/157, train_loss: 0.6972\n",
            "70/157, train_loss: 0.6824\n",
            "71/157, train_loss: 0.7294\n",
            "72/157, train_loss: 0.7951\n",
            "73/157, train_loss: 0.8122\n",
            "74/157, train_loss: 0.6816\n",
            "75/157, train_loss: 0.6695\n",
            "76/157, train_loss: 0.7048\n",
            "77/157, train_loss: 0.7034\n",
            "78/157, train_loss: 0.5885\n",
            "79/157, train_loss: 0.6226\n",
            "80/157, train_loss: 0.6503\n",
            "81/157, train_loss: 0.6425\n",
            "82/157, train_loss: 0.6808\n",
            "83/157, train_loss: 0.6128\n",
            "84/157, train_loss: 0.6698\n",
            "85/157, train_loss: 0.6997\n",
            "86/157, train_loss: 0.7089\n",
            "87/157, train_loss: 0.6226\n",
            "88/157, train_loss: 0.7318\n",
            "89/157, train_loss: 0.6544\n",
            "90/157, train_loss: 0.6734\n",
            "91/157, train_loss: 0.6382\n",
            "92/157, train_loss: 0.7632\n",
            "93/157, train_loss: 0.6282\n",
            "94/157, train_loss: 0.6066\n",
            "95/157, train_loss: 0.7516\n",
            "96/157, train_loss: 0.6501\n",
            "97/157, train_loss: 0.7142\n",
            "98/157, train_loss: 0.6311\n",
            "99/157, train_loss: 0.6707\n",
            "100/157, train_loss: 0.5823\n",
            "101/157, train_loss: 0.6273\n",
            "102/157, train_loss: 0.6560\n",
            "103/157, train_loss: 0.6104\n",
            "104/157, train_loss: 0.6076\n",
            "105/157, train_loss: 0.6156\n",
            "106/157, train_loss: 0.6434\n",
            "107/157, train_loss: 0.7295\n",
            "108/157, train_loss: 0.7257\n",
            "109/157, train_loss: 0.6237\n",
            "110/157, train_loss: 0.6524\n",
            "111/157, train_loss: 0.5398\n",
            "112/157, train_loss: 0.6394\n",
            "113/157, train_loss: 0.6201\n",
            "114/157, train_loss: 0.5921\n",
            "115/157, train_loss: 0.7030\n",
            "116/157, train_loss: 0.7233\n",
            "117/157, train_loss: 0.6048\n",
            "118/157, train_loss: 0.6232\n",
            "119/157, train_loss: 0.6932\n",
            "120/157, train_loss: 0.6717\n",
            "121/157, train_loss: 0.6555\n",
            "122/157, train_loss: 0.6362\n",
            "123/157, train_loss: 0.6720\n",
            "124/157, train_loss: 0.6524\n",
            "125/157, train_loss: 0.6059\n",
            "126/157, train_loss: 0.5446\n",
            "127/157, train_loss: 0.6418\n",
            "128/157, train_loss: 0.6044\n",
            "129/157, train_loss: 0.6022\n",
            "130/157, train_loss: 0.6282\n",
            "131/157, train_loss: 0.6269\n",
            "132/157, train_loss: 0.6959\n",
            "133/157, train_loss: 0.6677\n",
            "134/157, train_loss: 0.5986\n",
            "135/157, train_loss: 0.6483\n",
            "136/157, train_loss: 0.5818\n",
            "137/157, train_loss: 0.6186\n",
            "138/157, train_loss: 0.5942\n",
            "139/157, train_loss: 0.5452\n",
            "140/157, train_loss: 0.5676\n",
            "141/157, train_loss: 0.5791\n",
            "142/157, train_loss: 0.5755\n",
            "143/157, train_loss: 0.6841\n",
            "144/157, train_loss: 0.6671\n",
            "145/157, train_loss: 0.6495\n",
            "146/157, train_loss: 0.5995\n",
            "147/157, train_loss: 0.6431\n",
            "148/157, train_loss: 0.6704\n",
            "149/157, train_loss: 0.6955\n",
            "150/157, train_loss: 0.7109\n",
            "151/157, train_loss: 0.6552\n",
            "152/157, train_loss: 0.6673\n",
            "153/157, train_loss: 0.5562\n",
            "154/157, train_loss: 0.5957\n",
            "155/157, train_loss: 0.6291\n",
            "156/157, train_loss: 0.5944\n",
            "157/157, train_loss: 0.5351\n",
            "158/157, train_loss: 0.4663\n",
            "epoch 2 average loss: 0.6968\n",
            "saved new best metric model\n",
            "current epoch: 2 current AUC: 0.9722 current accuracy: 0.8197 best AUC: 0.9722 at epoch: 2\n",
            "----------\n",
            "epoch 3/4\n",
            "1/157, train_loss: 0.6092\n",
            "2/157, train_loss: 0.6314\n",
            "3/157, train_loss: 0.6590\n",
            "4/157, train_loss: 0.5269\n",
            "5/157, train_loss: 0.5503\n",
            "6/157, train_loss: 0.6285\n",
            "7/157, train_loss: 0.5452\n",
            "8/157, train_loss: 0.5833\n",
            "9/157, train_loss: 0.6235\n",
            "10/157, train_loss: 0.5338\n",
            "11/157, train_loss: 0.5683\n",
            "12/157, train_loss: 0.5874\n",
            "13/157, train_loss: 0.5985\n",
            "14/157, train_loss: 0.5658\n",
            "15/157, train_loss: 0.6008\n",
            "16/157, train_loss: 0.5044\n",
            "17/157, train_loss: 0.5834\n",
            "18/157, train_loss: 0.5237\n",
            "19/157, train_loss: 0.6033\n",
            "20/157, train_loss: 0.6855\n",
            "21/157, train_loss: 0.5482\n",
            "22/157, train_loss: 0.6046\n",
            "23/157, train_loss: 0.6318\n",
            "24/157, train_loss: 0.5266\n",
            "25/157, train_loss: 0.6239\n",
            "26/157, train_loss: 0.5646\n",
            "27/157, train_loss: 0.5259\n",
            "28/157, train_loss: 0.5786\n",
            "29/157, train_loss: 0.5856\n",
            "30/157, train_loss: 0.5227\n",
            "31/157, train_loss: 0.5934\n",
            "32/157, train_loss: 0.5258\n",
            "33/157, train_loss: 0.5519\n",
            "34/157, train_loss: 0.6146\n",
            "35/157, train_loss: 0.5798\n",
            "36/157, train_loss: 0.6482\n",
            "37/157, train_loss: 0.6059\n",
            "38/157, train_loss: 0.5438\n",
            "39/157, train_loss: 0.6220\n",
            "40/157, train_loss: 0.5441\n",
            "41/157, train_loss: 0.5368\n",
            "42/157, train_loss: 0.5289\n",
            "43/157, train_loss: 0.4751\n",
            "44/157, train_loss: 0.5345\n",
            "45/157, train_loss: 0.5418\n",
            "46/157, train_loss: 0.5775\n",
            "47/157, train_loss: 0.6086\n",
            "48/157, train_loss: 0.5413\n",
            "49/157, train_loss: 0.5508\n",
            "50/157, train_loss: 0.4846\n",
            "51/157, train_loss: 0.5732\n",
            "52/157, train_loss: 0.4949\n",
            "53/157, train_loss: 0.5701\n",
            "54/157, train_loss: 0.6081\n",
            "55/157, train_loss: 0.5519\n",
            "56/157, train_loss: 0.4798\n",
            "57/157, train_loss: 0.6261\n",
            "58/157, train_loss: 0.4946\n",
            "59/157, train_loss: 0.5726\n",
            "60/157, train_loss: 0.5714\n",
            "61/157, train_loss: 0.4765\n",
            "62/157, train_loss: 0.6618\n",
            "63/157, train_loss: 0.5412\n",
            "64/157, train_loss: 0.5434\n",
            "65/157, train_loss: 0.6113\n",
            "66/157, train_loss: 0.5718\n",
            "67/157, train_loss: 0.5550\n",
            "68/157, train_loss: 0.5405\n",
            "69/157, train_loss: 0.5444\n",
            "70/157, train_loss: 0.5481\n",
            "71/157, train_loss: 0.5034\n",
            "72/157, train_loss: 0.5024\n",
            "73/157, train_loss: 0.5545\n",
            "74/157, train_loss: 0.4754\n",
            "75/157, train_loss: 0.5587\n",
            "76/157, train_loss: 0.5479\n",
            "77/157, train_loss: 0.5084\n",
            "78/157, train_loss: 0.4792\n",
            "79/157, train_loss: 0.5808\n",
            "80/157, train_loss: 0.5597\n",
            "81/157, train_loss: 0.5398\n",
            "82/157, train_loss: 0.6283\n",
            "83/157, train_loss: 0.5906\n",
            "84/157, train_loss: 0.6512\n",
            "85/157, train_loss: 0.5723\n",
            "86/157, train_loss: 0.5275\n",
            "87/157, train_loss: 0.5181\n",
            "88/157, train_loss: 0.4796\n",
            "89/157, train_loss: 0.5815\n",
            "90/157, train_loss: 0.4642\n",
            "91/157, train_loss: 0.4531\n",
            "92/157, train_loss: 0.5904\n",
            "93/157, train_loss: 0.5749\n",
            "94/157, train_loss: 0.5381\n",
            "95/157, train_loss: 0.5767\n",
            "96/157, train_loss: 0.4776\n",
            "97/157, train_loss: 0.4934\n",
            "98/157, train_loss: 0.5508\n",
            "99/157, train_loss: 0.4450\n",
            "100/157, train_loss: 0.5758\n",
            "101/157, train_loss: 0.5152\n",
            "102/157, train_loss: 0.5185\n",
            "103/157, train_loss: 0.5127\n",
            "104/157, train_loss: 0.4329\n",
            "105/157, train_loss: 0.5765\n",
            "106/157, train_loss: 0.5181\n",
            "107/157, train_loss: 0.4203\n",
            "108/157, train_loss: 0.5604\n",
            "109/157, train_loss: 0.4955\n",
            "110/157, train_loss: 0.4943\n",
            "111/157, train_loss: 0.5719\n",
            "112/157, train_loss: 0.4410\n",
            "113/157, train_loss: 0.5733\n",
            "114/157, train_loss: 0.5838\n",
            "115/157, train_loss: 0.5071\n",
            "116/157, train_loss: 0.5843\n",
            "117/157, train_loss: 0.5599\n",
            "118/157, train_loss: 0.4835\n",
            "119/157, train_loss: 0.6328\n",
            "120/157, train_loss: 0.5306\n",
            "121/157, train_loss: 0.4820\n",
            "122/157, train_loss: 0.4714\n",
            "123/157, train_loss: 0.4864\n",
            "124/157, train_loss: 0.5269\n",
            "125/157, train_loss: 0.5684\n",
            "126/157, train_loss: 0.5504\n",
            "127/157, train_loss: 0.5382\n",
            "128/157, train_loss: 0.5112\n",
            "129/157, train_loss: 0.5620\n",
            "130/157, train_loss: 0.4933\n",
            "131/157, train_loss: 0.5139\n",
            "132/157, train_loss: 0.4845\n",
            "133/157, train_loss: 0.5195\n",
            "134/157, train_loss: 0.4656\n",
            "135/157, train_loss: 0.4309\n",
            "136/157, train_loss: 0.4891\n",
            "137/157, train_loss: 0.4469\n",
            "138/157, train_loss: 0.5234\n",
            "139/157, train_loss: 0.5304\n",
            "140/157, train_loss: 0.5235\n",
            "141/157, train_loss: 0.4957\n",
            "142/157, train_loss: 0.4395\n",
            "143/157, train_loss: 0.4372\n",
            "144/157, train_loss: 0.4848\n",
            "145/157, train_loss: 0.5159\n",
            "146/157, train_loss: 0.4404\n",
            "147/157, train_loss: 0.4912\n",
            "148/157, train_loss: 0.4545\n",
            "149/157, train_loss: 0.5433\n",
            "150/157, train_loss: 0.4233\n",
            "151/157, train_loss: 0.5242\n",
            "152/157, train_loss: 0.5086\n",
            "153/157, train_loss: 0.5726\n",
            "154/157, train_loss: 0.5006\n",
            "155/157, train_loss: 0.5121\n",
            "156/157, train_loss: 0.4407\n",
            "157/157, train_loss: 0.5313\n",
            "158/157, train_loss: 0.5162\n",
            "epoch 3 average loss: 0.5401\n",
            "saved new best metric model\n",
            "current epoch: 3 current AUC: 0.9777 current accuracy: 0.8663 best AUC: 0.9777 at epoch: 3\n",
            "----------\n",
            "epoch 4/4\n",
            "1/157, train_loss: 0.4771\n",
            "2/157, train_loss: 0.5758\n",
            "3/157, train_loss: 0.5667\n",
            "4/157, train_loss: 0.5946\n",
            "5/157, train_loss: 0.5581\n",
            "6/157, train_loss: 0.4159\n",
            "7/157, train_loss: 0.5173\n",
            "8/157, train_loss: 0.5120\n",
            "9/157, train_loss: 0.4453\n",
            "10/157, train_loss: 0.4751\n",
            "11/157, train_loss: 0.5128\n",
            "12/157, train_loss: 0.4406\n",
            "13/157, train_loss: 0.5216\n",
            "14/157, train_loss: 0.5646\n",
            "15/157, train_loss: 0.5075\n",
            "16/157, train_loss: 0.5889\n",
            "17/157, train_loss: 0.4804\n",
            "18/157, train_loss: 0.4880\n",
            "19/157, train_loss: 0.5070\n",
            "20/157, train_loss: 0.4516\n",
            "21/157, train_loss: 0.5014\n",
            "22/157, train_loss: 0.4377\n",
            "23/157, train_loss: 0.5525\n",
            "24/157, train_loss: 0.5189\n",
            "25/157, train_loss: 0.4713\n",
            "26/157, train_loss: 0.4540\n",
            "27/157, train_loss: 0.4742\n",
            "28/157, train_loss: 0.4472\n",
            "29/157, train_loss: 0.4536\n",
            "30/157, train_loss: 0.3913\n",
            "31/157, train_loss: 0.4259\n",
            "32/157, train_loss: 0.5111\n",
            "33/157, train_loss: 0.4670\n",
            "34/157, train_loss: 0.5674\n",
            "35/157, train_loss: 0.4728\n",
            "36/157, train_loss: 0.5034\n",
            "37/157, train_loss: 0.4526\n",
            "38/157, train_loss: 0.5431\n",
            "39/157, train_loss: 0.4381\n",
            "40/157, train_loss: 0.5056\n",
            "41/157, train_loss: 0.4103\n",
            "42/157, train_loss: 0.5278\n",
            "43/157, train_loss: 0.5153\n",
            "44/157, train_loss: 0.5089\n",
            "45/157, train_loss: 0.4544\n",
            "46/157, train_loss: 0.4286\n",
            "47/157, train_loss: 0.4302\n",
            "48/157, train_loss: 0.4834\n",
            "49/157, train_loss: 0.4330\n",
            "50/157, train_loss: 0.5057\n",
            "51/157, train_loss: 0.5035\n",
            "52/157, train_loss: 0.4692\n",
            "53/157, train_loss: 0.4736\n",
            "54/157, train_loss: 0.5098\n",
            "55/157, train_loss: 0.5128\n",
            "56/157, train_loss: 0.4346\n",
            "57/157, train_loss: 0.4416\n",
            "58/157, train_loss: 0.3909\n",
            "59/157, train_loss: 0.4582\n",
            "60/157, train_loss: 0.3389\n",
            "61/157, train_loss: 0.4258\n",
            "62/157, train_loss: 0.4613\n",
            "63/157, train_loss: 0.5032\n",
            "64/157, train_loss: 0.5150\n",
            "65/157, train_loss: 0.5896\n",
            "66/157, train_loss: 0.4345\n",
            "67/157, train_loss: 0.3992\n",
            "68/157, train_loss: 0.4160\n",
            "69/157, train_loss: 0.5139\n",
            "70/157, train_loss: 0.5066\n",
            "71/157, train_loss: 0.4125\n",
            "72/157, train_loss: 0.4866\n",
            "73/157, train_loss: 0.4946\n",
            "74/157, train_loss: 0.4268\n",
            "75/157, train_loss: 0.4265\n",
            "76/157, train_loss: 0.4799\n",
            "77/157, train_loss: 0.4974\n",
            "78/157, train_loss: 0.4952\n",
            "79/157, train_loss: 0.4493\n",
            "80/157, train_loss: 0.4698\n",
            "81/157, train_loss: 0.5002\n",
            "82/157, train_loss: 0.3753\n",
            "83/157, train_loss: 0.5803\n",
            "84/157, train_loss: 0.3987\n",
            "85/157, train_loss: 0.4560\n",
            "86/157, train_loss: 0.5779\n",
            "87/157, train_loss: 0.4181\n",
            "88/157, train_loss: 0.4366\n",
            "89/157, train_loss: 0.4568\n",
            "90/157, train_loss: 0.4142\n",
            "91/157, train_loss: 0.5674\n",
            "92/157, train_loss: 0.4637\n",
            "93/157, train_loss: 0.4263\n",
            "94/157, train_loss: 0.4295\n",
            "95/157, train_loss: 0.4205\n",
            "96/157, train_loss: 0.4687\n",
            "97/157, train_loss: 0.4738\n",
            "98/157, train_loss: 0.4722\n",
            "99/157, train_loss: 0.5026\n",
            "100/157, train_loss: 0.4260\n",
            "101/157, train_loss: 0.4901\n",
            "102/157, train_loss: 0.4412\n",
            "103/157, train_loss: 0.4948\n",
            "104/157, train_loss: 0.5245\n",
            "105/157, train_loss: 0.4401\n",
            "106/157, train_loss: 0.5973\n",
            "107/157, train_loss: 0.4323\n",
            "108/157, train_loss: 0.4592\n",
            "109/157, train_loss: 0.4613\n",
            "110/157, train_loss: 0.5186\n",
            "111/157, train_loss: 0.4189\n",
            "112/157, train_loss: 0.5443\n",
            "113/157, train_loss: 0.5036\n",
            "114/157, train_loss: 0.4550\n",
            "115/157, train_loss: 0.4605\n",
            "116/157, train_loss: 0.4924\n",
            "117/157, train_loss: 0.4760\n",
            "118/157, train_loss: 0.4377\n",
            "119/157, train_loss: 0.4452\n",
            "120/157, train_loss: 0.5741\n",
            "121/157, train_loss: 0.4583\n",
            "122/157, train_loss: 0.4649\n",
            "123/157, train_loss: 0.4924\n",
            "124/157, train_loss: 0.4969\n",
            "125/157, train_loss: 0.4402\n",
            "126/157, train_loss: 0.4377\n",
            "127/157, train_loss: 0.4953\n",
            "128/157, train_loss: 0.3804\n",
            "129/157, train_loss: 0.4636\n",
            "130/157, train_loss: 0.4099\n",
            "131/157, train_loss: 0.4294\n",
            "132/157, train_loss: 0.4268\n",
            "133/157, train_loss: 0.4255\n",
            "134/157, train_loss: 0.4755\n",
            "135/157, train_loss: 0.4044\n",
            "136/157, train_loss: 0.4002\n",
            "137/157, train_loss: 0.5267\n",
            "138/157, train_loss: 0.4148\n",
            "139/157, train_loss: 0.4154\n",
            "140/157, train_loss: 0.4320\n",
            "141/157, train_loss: 0.4870\n",
            "142/157, train_loss: 0.4623\n",
            "143/157, train_loss: 0.4579\n",
            "144/157, train_loss: 0.5428\n",
            "145/157, train_loss: 0.3510\n",
            "146/157, train_loss: 0.4691\n",
            "147/157, train_loss: 0.4798\n",
            "148/157, train_loss: 0.4459\n",
            "149/157, train_loss: 0.4290\n",
            "150/157, train_loss: 0.3670\n",
            "151/157, train_loss: 0.4114\n",
            "152/157, train_loss: 0.4092\n",
            "153/157, train_loss: 0.4198\n",
            "154/157, train_loss: 0.5067\n",
            "155/157, train_loss: 0.4283\n",
            "156/157, train_loss: 0.3960\n",
            "157/157, train_loss: 0.4929\n",
            "158/157, train_loss: 0.4648\n",
            "epoch 4 average loss: 0.4700\n",
            "saved new best metric model\n",
            "current epoch: 4 current AUC: 0.9822 current accuracy: 0.8799 best AUC: 0.9822 at epoch: 4\n",
            "train completed, best_metric: 0.9822 at epoch: 4\n"
          ]
        }
      ],
      "source": [
        "best_metric = -1\n",
        "best_metric_epoch = -1\n",
        "epoch_loss_values = []\n",
        "metric_values = []\n",
        "\n",
        "for epoch in range(max_epochs):\n",
        "    print(\"-\" * 10)\n",
        "    print(f\"epoch {epoch + 1}/{max_epochs}\")\n",
        "    model.train()\n",
        "    epoch_loss = 0\n",
        "    step = 0\n",
        "    for batch_data in train_loader:\n",
        "        step += 1\n",
        "        inputs, labels = batch_data[0].to(device), batch_data[1].to(device)\n",
        "        optimizer.zero_grad()\n",
        "        outputs = model(inputs)\n",
        "        loss = loss_function(outputs, labels)\n",
        "        loss.backward()\n",
        "        optimizer.step()\n",
        "        epoch_loss += loss.item()\n",
        "        print(\n",
        "            f\"{step}/{len(train_ds) // train_loader.batch_size}, \"\n",
        "            f\"train_loss: {loss.item():.4f}\")\n",
        "        epoch_len = len(train_ds) // train_loader.batch_size\n",
        "    epoch_loss /= step\n",
        "    epoch_loss_values.append(epoch_loss)\n",
        "    print(f\"epoch {epoch + 1} average loss: {epoch_loss:.4f}\")\n",
        "\n",
        "    if (epoch + 1) % val_interval == 0:\n",
        "        model.eval()\n",
        "        with torch.no_grad():\n",
        "            y_pred = torch.tensor([], dtype=torch.float32, device=device)\n",
        "            y = torch.tensor([], dtype=torch.long, device=device)\n",
        "            for val_data in val_loader:\n",
        "                val_images, val_labels = (\n",
        "                    val_data[0].to(device),\n",
        "                    val_data[1].to(device),\n",
        "                )\n",
        "                y_pred = torch.cat([y_pred, model(val_images)], dim=0)\n",
        "                y = torch.cat([y, val_labels], dim=0)\n",
        "            y_onehot = [y_trans(i) for i in decollate_batch(y, detach=False)]\n",
        "            y_pred_act = [y_pred_trans(i) for i in decollate_batch(y_pred)]\n",
        "            auc_metric(y_pred_act, y_onehot)\n",
        "            result = auc_metric.aggregate()\n",
        "            auc_metric.reset()\n",
        "            del y_pred_act, y_onehot\n",
        "            metric_values.append(result)\n",
        "            acc_value = torch.eq(y_pred.argmax(dim=1), y)\n",
        "            acc_metric = acc_value.sum().item() / len(acc_value)\n",
        "            if result > best_metric:\n",
        "                best_metric = result\n",
        "                best_metric_epoch = epoch + 1\n",
        "                torch.save(model.state_dict(), os.path.join(\n",
        "                    root_dir, \"best_metric_model.pth\"))\n",
        "                print(\"saved new best metric model\")\n",
        "            print(\n",
        "                f\"current epoch: {epoch + 1} current AUC: {result:.4f}\"\n",
        "                f\" current accuracy: {acc_metric:.4f}\"\n",
        "                f\" best AUC: {best_metric:.4f}\"\n",
        "                f\" at epoch: {best_metric_epoch}\"\n",
        "            )\n",
        "\n",
        "print(\n",
        "    f\"train completed, best_metric: {best_metric:.4f} \"\n",
        "    f\"at epoch: {best_metric_epoch}\")"
      ]
    },
    {
      "cell_type": "markdown",
      "metadata": {
        "id": "mv_7vY2HXH-L"
      },
      "source": [
        "## Plot the loss and metric"
      ]
    },
    {
      "cell_type": "code",
      "execution_count": null,
      "metadata": {
        "id": "Kz1u6zI4XH-L",
        "outputId": "b9cc89ee-e504-40cf-860e-a9a73d30123e",
        "colab": {
          "base_uri": "https://localhost:8080/",
          "height": 404
        }
      },
      "outputs": [
        {
          "output_type": "display_data",
          "data": {
            "text/plain": [
              "<Figure size 864x432 with 2 Axes>"
            ],
            "image/png": "[encoded data removed]"
          },
          "metadata": {
            "needs_background": "light"
          }
        }
      ],
      "source": [
        "plt.figure(\"train\", (12, 6))\n",
        "plt.subplot(1, 2, 1)\n",
        "plt.title(\"Epoch Average Loss\")\n",
        "x = [i + 1 for i in range(len(epoch_loss_values))]\n",
        "y = epoch_loss_values\n",
        "plt.xlabel(\"epoch\")\n",
        "plt.plot(x, y)\n",
        "plt.subplot(1, 2, 2)\n",
        "plt.title(\"Val AUC\")\n",
        "x = [val_interval * (i + 1) for i in range(len(metric_values))]\n",
        "y = metric_values\n",
        "plt.xlabel(\"epoch\")\n",
        "plt.plot(x, y)\n",
        "plt.show()"
      ]
    },
    {
      "cell_type": "markdown",
      "metadata": {
        "id": "rRv5cZHzXH-L"
      },
      "source": [
        "## Evaluate the model on test dataset\n",
        "\n",
        "After training and validation, we already got the best model on validation test.  \n",
        "We need to evaluate the model on test dataset to check whether it's robust and not over-fitting.  \n",
        "We'll use these predictions to generate a classification report."
      ]
    },
    {
      "cell_type": "code",
      "execution_count": null,
      "metadata": {
        "id": "MWGnWW5fXH-L"
      },
      "outputs": [],
      "source": [
        "model.load_state_dict(torch.load(\n",
        "    os.path.join(root_dir, \"best_metric_model.pth\")))\n",
        "model.eval()\n",
        "y_true = []\n",
        "y_pred = []\n",
        "with torch.no_grad():\n",
        "    for test_data in test_loader:\n",
        "        test_images, test_labels = (\n",
        "            test_data[0].to(device),\n",
        "            test_data[1].to(device),\n",
        "        )\n",
        "        pred = model(test_images).argmax(dim=1)\n",
        "        for i in range(len(pred)):\n",
        "            y_true.append(test_labels[i].item())\n",
        "            y_pred.append(pred[i].item())"
      ]
    },
    {
      "cell_type": "code",
      "execution_count": null,
      "metadata": {
        "tags": [],
        "colab": {
          "base_uri": "https://localhost:8080/"
        },
        "id": "42gij0mJXH-L",
        "outputId": "1c8f7c62-e850-4dfc-c0cb-59e026ce926c"
      },
      "outputs": [
        {
          "output_type": "stream",
          "name": "stdout",
          "text": [
            "              precision    recall  f1-score   support\n",
            "\n",
            "   AbdomenCT     0.6664    0.8840    0.7599       974\n",
            "   BreastMRI     0.9921    0.9943    0.9932       884\n",
            "         CXR     0.9467    0.9667    0.9566       992\n",
            "     ChestCT     0.8438    0.6285    0.7204      1031\n",
            "        Hand     0.8991    0.9107    0.9049      1008\n",
            "      HeadCT     0.9224    0.8390    0.8787      1006\n",
            "\n",
            "    accuracy                         0.8667      5895\n",
            "   macro avg     0.8784    0.8705    0.8690      5895\n",
            "weighted avg     0.8769    0.8667    0.8662      5895\n",
            "\n"
          ]
        }
      ],
      "source": [
        "print(classification_report(\n",
        "    y_true, y_pred, target_names=class_names, digits=4))"
      ]
    },
    {
      "cell_type": "markdown",
      "metadata": {
        "id": "QyjO19N2XH-L"
      },
      "source": [
        "## Cleanup data directory\n",
        "\n",
        "Remove directory if a temporary was used."
      ]
    },
    {
      "cell_type": "code",
      "execution_count": null,
      "metadata": {
        "id": "XOtFaqPsXH-L"
      },
      "outputs": [],
      "source": [
        "if directory is None:\n",
        "    shutil.rmtree(root_dir)"
      ]
    }
  ],
  "metadata": {
    "kernelspec": {
      "display_name": "Python 3 (ipykernel)",
      "language": "python",
      "name": "python3"
    },
    "language_info": {
      "codemirror_mode": {
        "name": "ipython",
        "version": 3
      },
      "file_extension": ".py",
      "mimetype": "text/x-python",
      "name": "python",
      "nbconvert_exporter": "python",
      "pygments_lexer": "ipython3",
      "version": "3.8.13"
    },
    "colab": {
      "provenance": [],
      "collapsed_sections": [],
      "include_colab_link": true
    },
    "accelerator": "GPU"
  },
  "nbformat": 4,
  "nbformat_minor": 0
}