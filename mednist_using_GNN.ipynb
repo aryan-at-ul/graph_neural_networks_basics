{
  "cells": [
    {
      "cell_type": "markdown",
      "metadata": {
        "id": "view-in-github",
        "colab_type": "text"
      },
      "source": [
        "<a href=\"https://colab.research.google.com/github/aryan-at-ul/graph_neural_networks_basics/blob/main/mednist_using_GNN.ipynb\" target=\"_parent\"><img src=\"https://colab.research.google.com/assets/colab-badge.svg\" alt=\"Open In Colab\"/></a>"
      ]
    },
    {
      "cell_type": "markdown",
      "metadata": {
        "id": "iAbwsrZyXH-E"
      },
      "source": [
        "# Medical Image Classification Tutorial with the MedNIST Dataset\n",
        "\n",
        "In this tutorial, we introduce an end-to-end training and evaluation example based on the MedNIST dataset.\n",
        "\n",
        "We'll go through the following steps:\n",
        "* Create a dataset for training and testing\n",
        "* Use MONAI transforms to pre-process data\n",
        "* Use the DenseNet from MONAI for classification\n",
        "* Train the model with a PyTorch program\n",
        "* Evaluate on test dataset\n",
        "\n",
        "[![Open In Colab](https://colab.research.google.com/assets/colab-badge.svg)](https://colab.research.google.com/github/Project-MONAI/tutorials/blob/main/2d_classification/mednist_tutorial.ipynb)"
      ]
    },
    {
      "cell_type": "markdown",
      "metadata": {
        "id": "NpgMM4icXH-F"
      },
      "source": [
        "## Setup environment"
      ]
    },
    {
      "cell_type": "code",
      "execution_count": null,
      "metadata": {
        "id": "yFgvGvNxXH-G",
        "outputId": "efb8fe35-776d-47eb-f0bd-a2baef505d33",
        "colab": {
          "base_uri": "https://localhost:8080/"
        }
      },
      "outputs": [
        {
          "output_type": "stream",
          "name": "stdout",
          "text": [
            "Traceback (most recent call last):\n",
            "  File \"<string>\", line 1, in <module>\n",
            "ModuleNotFoundError: No module named 'monai'\n",
            "\u001b[K     |████████████████████████████████| 1.1 MB 5.0 MB/s \n",
            "\u001b[?25h"
          ]
        }
      ],
      "source": [
        "!python -c \"import monai\" || pip install -q \"monai-weekly[pillow, tqdm]\"\n",
        "!python -c \"import matplotlib\" || pip install -q matplotlib\n",
        "%matplotlib inline"
      ]
    },
    {
      "cell_type": "markdown",
      "metadata": {
        "id": "UtdIFHvTXH-G"
      },
      "source": [
        "## Setup imports"
      ]
    },
    {
      "cell_type": "code",
      "execution_count": null,
      "metadata": {
        "tags": [],
        "id": "84w9PPZhXH-G",
        "outputId": "53eebe96-24b1-4540-d2fe-0f940b5a7cb8",
        "colab": {
          "base_uri": "https://localhost:8080/"
        }
      },
      "outputs": [
        {
          "output_type": "stream",
          "name": "stdout",
          "text": [
            "MONAI version: 1.1.dev2238\n",
            "Numpy version: 1.21.6\n",
            "Pytorch version: 1.12.1+cu113\n",
            "MONAI flags: HAS_EXT = False, USE_COMPILED = False, USE_META_DICT = False\n",
            "MONAI rev id: 8d72c2b845c8e91aad9a7cf17f2049bdec215f9d\n",
            "MONAI __file__: /usr/local/lib/python3.7/dist-packages/monai/__init__.py\n",
            "\n",
            "Optional dependencies:\n",
            "Pytorch Ignite version: NOT INSTALLED or UNKNOWN VERSION.\n",
            "Nibabel version: 3.0.2\n",
            "scikit-image version: 0.18.3\n",
            "Pillow version: 7.1.2\n",
            "Tensorboard version: 2.8.0\n",
            "gdown version: 4.4.0\n",
            "TorchVision version: 0.13.1+cu113\n",
            "tqdm version: 4.64.1\n",
            "lmdb version: 0.99\n",
            "psutil version: 5.4.8\n",
            "pandas version: 1.3.5\n",
            "einops version: NOT INSTALLED or UNKNOWN VERSION.\n",
            "transformers version: NOT INSTALLED or UNKNOWN VERSION.\n",
            "mlflow version: NOT INSTALLED or UNKNOWN VERSION.\n",
            "pynrrd version: NOT INSTALLED or UNKNOWN VERSION.\n",
            "\n",
            "For details about installing the optional dependencies, please visit:\n",
            "    https://docs.monai.io/en/latest/installation.html#installing-the-recommended-dependencies\n",
            "\n"
          ]
        }
      ],
      "source": [
        "# Copyright 2020 MONAI Consortium\n",
        "# Licensed under the Apache License, Version 2.0 (the \"License\");\n",
        "# you may not use this file except in compliance with the License.\n",
        "# You may obtain a copy of the License at\n",
        "#     http://www.apache.org/licenses/LICENSE-2.0\n",
        "# Unless required by applicable law or agreed to in writing, software\n",
        "# distributed under the License is distributed on an \"AS IS\" BASIS,\n",
        "# WITHOUT WARRANTIES OR CONDITIONS OF ANY KIND, either express or implied.\n",
        "# See the License for the specific language governing permissions and\n",
        "# limitations under the License.\n",
        "\n",
        "import os\n",
        "import shutil\n",
        "import tempfile\n",
        "import matplotlib.pyplot as plt\n",
        "import PIL\n",
        "import torch\n",
        "import numpy as np\n",
        "from sklearn.metrics import classification_report\n",
        "\n",
        "from monai.apps import download_and_extract\n",
        "from monai.config import print_config\n",
        "from monai.data import decollate_batch, DataLoader\n",
        "from monai.metrics import ROCAUCMetric\n",
        "from monai.networks.nets import DenseNet121\n",
        "from monai.transforms import (\n",
        "    Activations,\n",
        "    EnsureChannelFirst,\n",
        "    AsDiscrete,\n",
        "    Compose,\n",
        "    LoadImage,\n",
        "    RandFlip,\n",
        "    RandRotate,\n",
        "    RandZoom,\n",
        "    ScaleIntensity,\n",
        ")\n",
        "from monai.utils import set_determinism\n",
        "\n",
        "print_config()"
      ]
    },
    {
      "cell_type": "markdown",
      "metadata": {
        "id": "2x-Lem1SXH-H"
      },
      "source": [
        "## Setup data directory\n",
        "\n",
        "You can specify a directory with the `MONAI_DATA_DIRECTORY` environment variable.  \n",
        "This allows you to save results and reuse downloads.  \n",
        "If not specified a temporary directory will be used."
      ]
    },
    {
      "cell_type": "code",
      "execution_count": null,
      "metadata": {
        "tags": [],
        "id": "bkNS-pM7XH-H",
        "outputId": "f6667017-8215-4a20-8e53-7e06f127a300",
        "colab": {
          "base_uri": "https://localhost:8080/"
        }
      },
      "outputs": [
        {
          "output_type": "stream",
          "name": "stdout",
          "text": [
            "/tmp/tmp27p_05yl\n"
          ]
        }
      ],
      "source": [
        "directory = os.environ.get(\"MONAI_DATA_DIRECTORY\")\n",
        "root_dir = tempfile.mkdtemp() if directory is None else directory\n",
        "print(root_dir)"
      ]
    },
    {
      "cell_type": "markdown",
      "metadata": {
        "id": "3iZ_-yM2XH-I"
      },
      "source": [
        "## Download dataset\n",
        "\n",
        "The MedNIST dataset was gathered from several sets from [TCIA](https://wiki.cancerimagingarchive.net/display/Public/Data+Usage+Policies+and+Restrictions),\n",
        "[the RSNA Bone Age Challenge](http://rsnachallenges.cloudapp.net/competitions/4),\n",
        "and [the NIH Chest X-ray dataset](https://cloud.google.com/healthcare/docs/resources/public-datasets/nih-chest).\n",
        "\n",
        "The dataset is kindly made available by [Dr. Bradley J. Erickson M.D., Ph.D.](https://www.mayo.edu/research/labs/radiology-informatics/overview) (Department of Radiology, Mayo Clinic)\n",
        "under the Creative Commons [CC BY-SA 4.0 license](https://creativecommons.org/licenses/by-sa/4.0/).\n",
        "\n",
        "If you use the MedNIST dataset, please acknowledge the source."
      ]
    },
    {
      "cell_type": "code",
      "execution_count": null,
      "metadata": {
        "tags": [],
        "id": "NnhDBzSPXH-I",
        "outputId": "7eab5339-bbc4-4744-d57c-92b3c0c2a85d",
        "colab": {
          "base_uri": "https://localhost:8080/"
        }
      },
      "outputs": [
        {
          "output_type": "stream",
          "name": "stderr",
          "text": [
            "MedNIST.tar.gz: 59.0MB [00:01, 48.2MB/s]                            "
          ]
        },
        {
          "output_type": "stream",
          "name": "stdout",
          "text": [
            "2022-09-23 17:20:30,466 - INFO - Downloaded: /tmp/tmp27p_05yl/MedNIST.tar.gz\n"
          ]
        },
        {
          "output_type": "stream",
          "name": "stderr",
          "text": [
            "\n"
          ]
        },
        {
          "output_type": "stream",
          "name": "stdout",
          "text": [
            "2022-09-23 17:20:30,690 - INFO - Verified 'MedNIST.tar.gz', md5: 0bc7306e7427e00ad1c5526a6677552d.\n",
            "2022-09-23 17:20:30,697 - INFO - Writing into directory: /tmp/tmp27p_05yl.\n"
          ]
        }
      ],
      "source": [
        "resource = \"https://github.com/Project-MONAI/MONAI-extra-test-data/releases/download/0.8.1/MedNIST.tar.gz\"\n",
        "md5 = \"0bc7306e7427e00ad1c5526a6677552d\"\n",
        "\n",
        "compressed_file = os.path.join(root_dir, \"MedNIST.tar.gz\")\n",
        "data_dir = os.path.join(root_dir, \"MedNIST\")\n",
        "if not os.path.exists(data_dir):\n",
        "    download_and_extract(resource, compressed_file, root_dir, md5)"
      ]
    },
    {
      "cell_type": "markdown",
      "metadata": {
        "id": "9xCxgejZXH-J"
      },
      "source": [
        "## Set deterministic training for reproducibility"
      ]
    },
    {
      "cell_type": "code",
      "execution_count": null,
      "metadata": {
        "id": "IZVqe06kXH-J"
      },
      "outputs": [],
      "source": [
        "set_determinism(seed=0)"
      ]
    },
    {
      "cell_type": "markdown",
      "metadata": {
        "id": "FVkbhSc1XH-J"
      },
      "source": [
        "## Read image filenames from the dataset folders\n",
        "\n",
        "First of all, check the dataset files and show some statistics.  \n",
        "There are 6 folders in the dataset: Hand, AbdomenCT, CXR, ChestCT, BreastMRI, HeadCT,  \n",
        "which should be used as the labels to train our classification model."
      ]
    },
    {
      "cell_type": "code",
      "execution_count": null,
      "metadata": {
        "tags": [],
        "id": "GBAnU15_XH-J",
        "outputId": "62f92aa4-8e03-4156-c50e-fb09ad2deea9",
        "colab": {
          "base_uri": "https://localhost:8080/"
        }
      },
      "outputs": [
        {
          "output_type": "stream",
          "name": "stdout",
          "text": [
            "Total image count: 58954\n",
            "Image dimensions: 64 x 64\n",
            "Label names: ['AbdomenCT', 'BreastMRI', 'CXR', 'ChestCT', 'Hand', 'HeadCT']\n",
            "Label counts: [10000, 8954, 10000, 10000, 10000, 10000]\n"
          ]
        }
      ],
      "source": [
        "class_names = sorted(x for x in os.listdir(data_dir)\n",
        "                     if os.path.isdir(os.path.join(data_dir, x)))\n",
        "num_class = len(class_names)\n",
        "image_files = [\n",
        "    [\n",
        "        os.path.join(data_dir, class_names[i], x)\n",
        "        for x in os.listdir(os.path.join(data_dir, class_names[i]))\n",
        "    ]\n",
        "    for i in range(num_class)\n",
        "]\n",
        "num_each = [len(image_files[i]) for i in range(num_class)]\n",
        "image_files_list = []\n",
        "image_class = []\n",
        "for i in range(num_class):\n",
        "    image_files_list.extend(image_files[i])\n",
        "    image_class.extend([i] * num_each[i])\n",
        "num_total = len(image_class)\n",
        "image_width, image_height = PIL.Image.open(image_files_list[0]).size\n",
        "\n",
        "print(f\"Total image count: {num_total}\")\n",
        "print(f\"Image dimensions: {image_width} x {image_height}\")\n",
        "print(f\"Label names: {class_names}\")\n",
        "print(f\"Label counts: {num_each}\")"
      ]
    },
    {
      "cell_type": "markdown",
      "metadata": {
        "id": "0C3cZculXH-J"
      },
      "source": [
        "## Randomly pick images from the dataset to visualize and check"
      ]
    },
    {
      "cell_type": "code",
      "execution_count": null,
      "metadata": {
        "id": "Ec3jIC9DXH-J",
        "outputId": "889bcc68-b82a-47a4-c100-c7909ad236a6",
        "colab": {
          "base_uri": "https://localhost:8080/",
          "height": 585
        }
      },
      "outputs": [
        {
          "output_type": "display_data",
          "data": {
            "text/plain": [
              "<Figure size 576x576 with 9 Axes>"
            ],
            "image/png": "[encoded data removed]"
          },
          "metadata": {
            "needs_background": "light"
          }
        }
      ],
      "source": [
        "plt.subplots(3, 3, figsize=(8, 8))\n",
        "for i, k in enumerate(np.random.randint(num_total, size=9)):\n",
        "    im = PIL.Image.open(image_files_list[k])\n",
        "    arr = np.array(im)\n",
        "    plt.subplot(3, 3, i + 1)\n",
        "    plt.xlabel(class_names[image_class[k]])\n",
        "    plt.imshow(arr, cmap=\"gray\", vmin=0, vmax=255)\n",
        "plt.tight_layout()\n",
        "plt.show()"
      ]
    },
    {
      "cell_type": "markdown",
      "metadata": {
        "id": "mSOKl90xXH-K"
      },
      "source": [
        "## Prepare training, validation and test data lists\n",
        "\n",
        "Randomly select 10% of the dataset as validation and 10% as test."
      ]
    },
    {
      "cell_type": "code",
      "execution_count": null,
      "metadata": {
        "tags": [],
        "id": "H76Upye_XH-K",
        "outputId": "774e9f0b-6e67-48ef-b7fb-3bb8a09e4e88",
        "colab": {
          "base_uri": "https://localhost:8080/"
        }
      },
      "outputs": [
        {
          "output_type": "stream",
          "name": "stdout",
          "text": [
            "Training count: 47164, Validation count: 5895, Test count: 5895\n"
          ]
        }
      ],
      "source": [
        "val_frac = 0.1\n",
        "test_frac = 0.1\n",
        "length = len(image_files_list)\n",
        "indices = np.arange(length)\n",
        "np.random.shuffle(indices)\n",
        "\n",
        "test_split = int(test_frac * length)\n",
        "val_split = int(val_frac * length) + test_split\n",
        "test_indices = indices[:test_split]\n",
        "val_indices = indices[test_split:val_split]\n",
        "train_indices = indices[val_split:]\n",
        "\n",
        "train_x = [image_files_list[i] for i in train_indices]\n",
        "train_y = [image_class[i] for i in train_indices]\n",
        "val_x = [image_files_list[i] for i in val_indices]\n",
        "val_y = [image_class[i] for i in val_indices]\n",
        "test_x = [image_files_list[i] for i in test_indices]\n",
        "test_y = [image_class[i] for i in test_indices]\n",
        "\n",
        "print(\n",
        "    f\"Training count: {len(train_x)}, Validation count: \"\n",
        "    f\"{len(val_x)}, Test count: {len(test_x)}\")"
      ]
    },
    {
      "cell_type": "markdown",
      "metadata": {
        "id": "JQzjC5dyXH-K"
      },
      "source": [
        "## Define MONAI transforms, Dataset and Dataloader to pre-process data"
      ]
    },
    {
      "cell_type": "code",
      "execution_count": null,
      "metadata": {
        "id": "csLFxT8hXH-K"
      },
      "outputs": [],
      "source": [
        "train_transforms = Compose(\n",
        "    [\n",
        "        LoadImage(image_only=True),\n",
        "        EnsureChannelFirst(),\n",
        "        ScaleIntensity(),\n",
        "        RandRotate(range_x=np.pi / 12, prob=0.5, keep_size=True),\n",
        "        RandFlip(spatial_axis=0, prob=0.5),\n",
        "        RandZoom(min_zoom=0.9, max_zoom=1.1, prob=0.5),\n",
        "    ]\n",
        ")\n",
        "\n",
        "val_transforms = Compose(\n",
        "    [LoadImage(image_only=True), EnsureChannelFirst(), ScaleIntensity()])\n",
        "\n",
        "y_pred_trans = Compose([Activations(softmax=True)])\n",
        "y_trans = Compose([AsDiscrete(to_onehot=num_class)])"
      ]
    },
    {
      "cell_type": "code",
      "execution_count": null,
      "metadata": {
        "id": "mLk0i-43XH-K",
        "outputId": "6860eb4c-e0f8-4d9f-b8ce-c75ef8a14b41",
        "colab": {
          "base_uri": "https://localhost:8080/"
        }
      },
      "outputs": [
        {
          "output_type": "stream",
          "name": "stderr",
          "text": [
            "/usr/local/lib/python3.7/dist-packages/torch/utils/data/dataloader.py:566: UserWarning: This DataLoader will create 10 worker processes in total. Our suggested max number of worker in current system is 2, which is smaller than what this DataLoader is going to create. Please be aware that excessive worker creation might get DataLoader running slow or even freeze, lower the worker number to avoid potential slowness/freeze if necessary.\n",
            "  cpuset_checked))\n"
          ]
        }
      ],
      "source": [
        "class MedNISTDataset(torch.utils.data.Dataset):\n",
        "    def __init__(self, image_files, labels, transforms):\n",
        "        self.image_files = image_files\n",
        "        self.labels = labels\n",
        "        self.transforms = transforms\n",
        "\n",
        "    def __len__(self):\n",
        "        return len(self.image_files)\n",
        "\n",
        "    def __getitem__(self, index):\n",
        "        return self.transforms(self.image_files[index]), self.labels[index]\n",
        "\n",
        "\n",
        "train_ds = MedNISTDataset(train_x, train_y, train_transforms)\n",
        "train_loader = DataLoader(\n",
        "    train_ds, batch_size=300, shuffle=True, num_workers=10)\n",
        "\n",
        "val_ds = MedNISTDataset(val_x, val_y, val_transforms)\n",
        "val_loader = DataLoader(\n",
        "    val_ds, batch_size=300, num_workers=10)\n",
        "\n",
        "test_ds = MedNISTDataset(test_x, test_y, val_transforms)\n",
        "test_loader = DataLoader(\n",
        "    test_ds, batch_size=300, num_workers=10)"
      ]
    },
    {
      "cell_type": "code",
      "source": [
        "from __future__ import print_function\n",
        "import argparse\n",
        "import torch\n",
        "import torch.nn as nn\n",
        "import torch.nn.functional as F\n",
        "import torch.optim as optim\n",
        "from torchvision import datasets, transforms\n",
        "import numpy as np\n",
        "from scipy.spatial.distance import cdist"
      ],
      "metadata": {
        "id": "G2-E9x5fbQFo"
      },
      "execution_count": null,
      "outputs": []
    },
    {
      "cell_type": "code",
      "source": [
        "class BorisGraphNet(nn.Module):\n",
        "    def __init__(self, img_size=64, pred_edge=False):\n",
        "        super(BorisGraphNet, self).__init__()\n",
        "        self.pred_edge = pred_edge\n",
        "        N = img_size ** 2\n",
        "        self.fc = nn.Linear(N, 6, bias=False)\n",
        "        if pred_edge:\n",
        "            col, row = np.meshgrid(np.arange(img_size), np.arange(img_size))\n",
        "            coord = np.stack((col, row), axis=2).reshape(-1, 2)\n",
        "            coord = (coord - np.mean(coord, axis=0)) / (np.std(coord, axis=0) + 1e-5)\n",
        "            coord = torch.from_numpy(coord).float()  # 784,2\n",
        "            coord = torch.cat((coord.unsqueeze(0).repeat(N, 1,  1),\n",
        "                                    coord.unsqueeze(1).repeat(1, N, 1)), dim=2)\n",
        "            #coord = torch.abs(coord[:, :, [0, 1]] - coord[:, :, [2, 3]])\n",
        "            self.pred_edge_fc = nn.Sequential(nn.Linear(4, 64),\n",
        "                                              nn.ReLU(),\n",
        "                                              nn.Linear(64, 1),\n",
        "                                              nn.Tanh())\n",
        "            self.register_buffer('coord', coord)\n",
        "        else:\n",
        "            # precompute adjacency matrix before training\n",
        "            A = self.precompute_adjacency_images(img_size)\n",
        "            self.register_buffer('A', A)\n",
        "\n",
        "\n",
        "    @staticmethod\n",
        "    def precompute_adjacency_images(img_size):\n",
        "        col, row = np.meshgrid(np.arange(img_size), np.arange(img_size))\n",
        "        coord = np.stack((col, row), axis=2).reshape(-1, 2) / img_size\n",
        "        dist = cdist(coord, coord)  \n",
        "        sigma = 0.05 * np.pi\n",
        "        \n",
        "        # Below, I forgot to square dist to make it a Gaussian (not sure how important it can be for final results)\n",
        "        A = np.exp(- dist / sigma ** 2)\n",
        "        print('WARNING: try squaring the dist to make it a Gaussian')\n",
        "            \n",
        "        A[A < 0.01] = 0\n",
        "        A = torch.from_numpy(A).float()\n",
        "\n",
        "        # Normalization as per (Kipf & Welling, ICLR 2017)\n",
        "        D = A.sum(1)  # nodes degree (N,)\n",
        "        D_hat = (D + 1e-5) ** (-0.5)\n",
        "        A_hat = D_hat.view(-1, 1) * A * D_hat.view(1, -1)  # N,N\n",
        "\n",
        "        # Some additional trick I found to be useful\n",
        "        A_hat[A_hat > 0.0001] = A_hat[A_hat > 0.0001] - 0.2\n",
        "\n",
        "        print(A_hat[:10, :10])\n",
        "        return A_hat\n",
        "\n",
        "    def forward(self, x):\n",
        "        B = x.size(0)\n",
        "        if self.pred_edge:\n",
        "            self.A = self.pred_edge_fc(self.coord).squeeze()\n",
        "\n",
        "        avg_neighbor_features = (torch.bmm(self.A.unsqueeze(0).expand(B, -1, -1),\n",
        "                                 x.view(B, -1, 1)).view(B, -1))\n",
        "        return self.fc(avg_neighbor_features)\n",
        "\n"
      ],
      "metadata": {
        "id": "v1fny86AbYsq"
      },
      "execution_count": null,
      "outputs": []
    },
    {
      "cell_type": "code",
      "source": [
        "model = BorisGraphNet(pred_edge=False)"
      ],
      "metadata": {
        "id": "_ZRSsA_6btz9",
        "outputId": "da5bc4e1-711a-40d3-e338-0df96ba42df9",
        "colab": {
          "base_uri": "https://localhost:8080/"
        }
      },
      "execution_count": null,
      "outputs": [
        {
          "output_type": "stream",
          "name": "stdout",
          "text": [
            "WARNING: try squaring the dist to make it a Gaussian\n",
            "tensor([[-0.0217, -0.1157, -0.1579, -0.1783, -0.1887, -0.1941, -0.1969, -0.1983,\n",
            "          0.0000,  0.0000],\n",
            "        [-0.1157, -0.0586, -0.1293, -0.1637, -0.1811, -0.1900, -0.1947, -0.1972,\n",
            "         -0.1985,  0.0000],\n",
            "        [-0.1579, -0.1293, -0.0746, -0.1356, -0.1664, -0.1823, -0.1907, -0.1950,\n",
            "         -0.1974, -0.1986],\n",
            "        [-0.1783, -0.1637, -0.1356, -0.0825, -0.1387, -0.1678, -0.1830, -0.1910,\n",
            "         -0.1952, -0.1975],\n",
            "        [-0.1887, -0.1811, -0.1664, -0.1387, -0.0866, -0.1404, -0.1685, -0.1833,\n",
            "         -0.1911, -0.1953],\n",
            "        [-0.1941, -0.1900, -0.1823, -0.1678, -0.1404, -0.0887, -0.1412, -0.1688,\n",
            "         -0.1835, -0.1912],\n",
            "        [-0.1969, -0.1947, -0.1907, -0.1830, -0.1685, -0.1412, -0.0898, -0.1416,\n",
            "         -0.1690, -0.1835],\n",
            "        [-0.1983, -0.1972, -0.1950, -0.1910, -0.1833, -0.1688, -0.1416, -0.0901,\n",
            "         -0.1416, -0.1690],\n",
            "        [ 0.0000, -0.1985, -0.1974, -0.1952, -0.1911, -0.1835, -0.1690, -0.1416,\n",
            "         -0.0901, -0.1416],\n",
            "        [ 0.0000,  0.0000, -0.1986, -0.1975, -0.1953, -0.1912, -0.1835, -0.1690,\n",
            "         -0.1416, -0.0901]])\n"
          ]
        }
      ]
    },
    {
      "cell_type": "markdown",
      "metadata": {
        "id": "trgMBmQiXH-K"
      },
      "source": [
        "## Define network and optimizer\n",
        "\n",
        "1. Set learning rate for how much the model is updated per batch.\n",
        "1. Set total epoch number, as we have shuffle and random transforms, so the training data of every epoch is different.  \n",
        "And as this is just a get start tutorial, let's just train 4 epochs.  \n",
        "If train 10 epochs, the model can achieve 100% accuracy on test dataset. \n",
        "1. Use DenseNet from MONAI and move to GPU devide, this DenseNet can support both 2D and 3D classification tasks.\n",
        "1. Use Adam optimizer."
      ]
    },
    {
      "cell_type": "code",
      "execution_count": null,
      "metadata": {
        "id": "FIPJZj1YXH-K"
      },
      "outputs": [],
      "source": [
        "device = torch.device(\"cuda\" if torch.cuda.is_available() else \"cpu\")\n",
        "# model = DenseNet121(spatial_dims=2, in_channels=1,\n",
        "                    # out_channels=num_class).to(device)\n",
        "loss_function = torch.nn.CrossEntropyLoss()\n",
        "optimizer = torch.optim.Adam(model.parameters(), 1e-5)\n",
        "max_epochs = 4\n",
        "val_interval = 1\n",
        "auc_metric = ROCAUCMetric()"
      ]
    },
    {
      "cell_type": "code",
      "source": [
        "model.to(device)"
      ],
      "metadata": {
        "id": "4Z_QIsd_cNpL",
        "outputId": "87f36694-fdae-49c2-b45d-7035ce8a3875",
        "colab": {
          "base_uri": "https://localhost:8080/"
        }
      },
      "execution_count": null,
      "outputs": [
        {
          "output_type": "execute_result",
          "data": {
            "text/plain": [
              "BorisGraphNet(\n",
              "  (fc): Linear(in_features=4096, out_features=6, bias=False)\n",
              ")"
            ]
          },
          "metadata": {},
          "execution_count": 28
        }
      ]
    },
    {
      "cell_type": "markdown",
      "metadata": {
        "id": "_LOruqnRXH-K"
      },
      "source": [
        "## Model training\n",
        "\n",
        "Execute a typical PyTorch training that run epoch loop and step loop, and do validation after every epoch.  \n",
        "Will save the model weights to file if got best validation accuracy."
      ]
    },
    {
      "cell_type": "code",
      "execution_count": null,
      "metadata": {
        "tags": [],
        "id": "I-I3nWziXH-K",
        "outputId": "e5fc6668-eaf8-4bcb-9cc9-4cdfb5d7bfa7",
        "colab": {
          "base_uri": "https://localhost:8080/"
        }
      },
      "outputs": [
        {
          "output_type": "stream",
          "name": "stdout",
          "text": [
            "----------\n",
            "epoch 1/4\n",
            "1/157, train_loss: 8.1397\n",
            "2/157, train_loss: 7.0792\n",
            "3/157, train_loss: 7.0404\n",
            "4/157, train_loss: 6.0632\n",
            "5/157, train_loss: 6.5393\n",
            "6/157, train_loss: 6.1299\n",
            "7/157, train_loss: 5.3484\n",
            "8/157, train_loss: 5.4569\n",
            "9/157, train_loss: 5.6556\n",
            "10/157, train_loss: 5.5303\n",
            "11/157, train_loss: 5.2738\n",
            "12/157, train_loss: 5.0544\n",
            "13/157, train_loss: 5.3495\n",
            "14/157, train_loss: 4.5348\n",
            "15/157, train_loss: 4.7720\n",
            "16/157, train_loss: 5.0793\n",
            "17/157, train_loss: 4.3593\n",
            "18/157, train_loss: 4.5455\n",
            "19/157, train_loss: 4.3420\n",
            "20/157, train_loss: 4.1991\n",
            "21/157, train_loss: 4.3382\n",
            "22/157, train_loss: 4.0055\n",
            "23/157, train_loss: 3.8603\n",
            "24/157, train_loss: 3.8629\n",
            "25/157, train_loss: 3.2743\n",
            "26/157, train_loss: 3.8520\n",
            "27/157, train_loss: 3.6526\n",
            "28/157, train_loss: 3.4427\n",
            "29/157, train_loss: 3.3709\n",
            "30/157, train_loss: 3.5962\n",
            "31/157, train_loss: 3.5220\n",
            "32/157, train_loss: 3.4794\n",
            "33/157, train_loss: 3.2757\n",
            "34/157, train_loss: 3.2916\n",
            "35/157, train_loss: 3.1802\n",
            "36/157, train_loss: 3.0531\n",
            "37/157, train_loss: 3.0339\n",
            "38/157, train_loss: 2.9222\n",
            "39/157, train_loss: 3.2115\n",
            "40/157, train_loss: 2.9912\n",
            "41/157, train_loss: 2.7763\n",
            "42/157, train_loss: 2.7678\n",
            "43/157, train_loss: 2.7703\n",
            "44/157, train_loss: 2.6426\n",
            "45/157, train_loss: 2.8812\n",
            "46/157, train_loss: 2.7262\n",
            "47/157, train_loss: 2.5575\n",
            "48/157, train_loss: 2.5753\n",
            "49/157, train_loss: 2.5214\n",
            "50/157, train_loss: 2.6956\n",
            "51/157, train_loss: 2.4587\n",
            "52/157, train_loss: 2.5083\n",
            "53/157, train_loss: 2.5369\n",
            "54/157, train_loss: 2.3057\n",
            "55/157, train_loss: 2.2537\n",
            "56/157, train_loss: 2.4677\n",
            "57/157, train_loss: 2.2464\n",
            "58/157, train_loss: 2.2877\n",
            "59/157, train_loss: 2.1343\n",
            "60/157, train_loss: 2.1447\n",
            "61/157, train_loss: 2.1329\n",
            "62/157, train_loss: 2.0637\n",
            "63/157, train_loss: 1.9327\n",
            "64/157, train_loss: 1.9325\n",
            "65/157, train_loss: 1.9639\n",
            "66/157, train_loss: 1.9628\n",
            "67/157, train_loss: 1.8108\n",
            "68/157, train_loss: 2.1305\n",
            "69/157, train_loss: 1.8500\n",
            "70/157, train_loss: 1.7130\n",
            "71/157, train_loss: 1.9238\n",
            "72/157, train_loss: 1.8393\n",
            "73/157, train_loss: 1.8095\n",
            "74/157, train_loss: 1.5278\n",
            "75/157, train_loss: 1.8838\n",
            "76/157, train_loss: 1.8188\n",
            "77/157, train_loss: 1.7672\n",
            "78/157, train_loss: 1.7983\n",
            "79/157, train_loss: 1.7036\n",
            "80/157, train_loss: 1.6696\n",
            "81/157, train_loss: 1.5894\n",
            "82/157, train_loss: 1.7152\n",
            "83/157, train_loss: 1.5324\n",
            "84/157, train_loss: 1.6471\n",
            "85/157, train_loss: 1.7731\n",
            "86/157, train_loss: 1.6050\n",
            "87/157, train_loss: 1.5230\n",
            "88/157, train_loss: 1.5202\n",
            "89/157, train_loss: 1.4083\n",
            "90/157, train_loss: 1.6117\n",
            "91/157, train_loss: 1.5867\n",
            "92/157, train_loss: 1.5226\n",
            "93/157, train_loss: 1.5037\n",
            "94/157, train_loss: 1.3498\n",
            "95/157, train_loss: 1.6337\n",
            "96/157, train_loss: 1.4273\n",
            "97/157, train_loss: 1.4462\n",
            "98/157, train_loss: 1.3842\n",
            "99/157, train_loss: 1.4165\n",
            "100/157, train_loss: 1.3307\n",
            "101/157, train_loss: 1.3959\n",
            "102/157, train_loss: 1.3027\n",
            "103/157, train_loss: 1.2669\n",
            "104/157, train_loss: 1.2512\n",
            "105/157, train_loss: 1.3671\n",
            "106/157, train_loss: 1.2745\n",
            "107/157, train_loss: 1.1759\n",
            "108/157, train_loss: 1.3027\n",
            "109/157, train_loss: 1.2685\n",
            "110/157, train_loss: 1.2958\n",
            "111/157, train_loss: 1.3524\n",
            "112/157, train_loss: 1.2991\n",
            "113/157, train_loss: 1.2179\n",
            "114/157, train_loss: 1.2298\n",
            "115/157, train_loss: 1.2548\n",
            "116/157, train_loss: 1.2940\n",
            "117/157, train_loss: 1.2412\n",
            "118/157, train_loss: 1.2246\n",
            "119/157, train_loss: 1.1877\n",
            "120/157, train_loss: 1.1823\n",
            "121/157, train_loss: 1.0849\n",
            "122/157, train_loss: 1.2690\n",
            "123/157, train_loss: 1.1146\n",
            "124/157, train_loss: 1.1588\n",
            "125/157, train_loss: 1.0781\n",
            "126/157, train_loss: 1.1147\n",
            "127/157, train_loss: 1.1633\n",
            "128/157, train_loss: 1.0439\n",
            "129/157, train_loss: 1.1788\n",
            "130/157, train_loss: 0.9861\n",
            "131/157, train_loss: 1.1354\n",
            "132/157, train_loss: 1.1744\n",
            "133/157, train_loss: 1.0577\n",
            "134/157, train_loss: 1.0249\n",
            "135/157, train_loss: 1.0309\n",
            "136/157, train_loss: 1.0039\n",
            "137/157, train_loss: 1.1455\n",
            "138/157, train_loss: 1.0596\n",
            "139/157, train_loss: 1.0675\n",
            "140/157, train_loss: 1.0500\n",
            "141/157, train_loss: 1.0721\n",
            "142/157, train_loss: 0.9075\n",
            "143/157, train_loss: 1.0679\n",
            "144/157, train_loss: 1.0391\n",
            "145/157, train_loss: 1.1614\n",
            "146/157, train_loss: 0.9001\n",
            "147/157, train_loss: 1.0078\n",
            "148/157, train_loss: 0.9731\n",
            "149/157, train_loss: 1.0253\n",
            "150/157, train_loss: 1.0826\n",
            "151/157, train_loss: 0.9803\n",
            "152/157, train_loss: 0.9266\n",
            "153/157, train_loss: 0.9840\n",
            "154/157, train_loss: 0.8361\n",
            "155/157, train_loss: 0.9835\n",
            "156/157, train_loss: 0.9039\n",
            "157/157, train_loss: 0.9782\n",
            "158/157, train_loss: 1.0938\n",
            "epoch 1 average loss: 2.2973\n",
            "saved new best metric model\n",
            "current epoch: 1 current AUC: 0.9159 current accuracy: 0.6565 best AUC: 0.9159 at epoch: 1\n",
            "----------\n",
            "epoch 2/4\n",
            "1/157, train_loss: 0.8773\n",
            "2/157, train_loss: 0.8833\n",
            "3/157, train_loss: 0.8571\n",
            "4/157, train_loss: 0.9234\n",
            "5/157, train_loss: 0.8784\n",
            "6/157, train_loss: 0.8611\n",
            "7/157, train_loss: 0.8992\n",
            "8/157, train_loss: 0.8304\n",
            "9/157, train_loss: 0.8244\n",
            "10/157, train_loss: 1.0045\n",
            "11/157, train_loss: 0.7665\n",
            "12/157, train_loss: 0.7587\n",
            "13/157, train_loss: 0.9233\n",
            "14/157, train_loss: 0.8163\n",
            "15/157, train_loss: 0.8730\n",
            "16/157, train_loss: 0.7981\n",
            "17/157, train_loss: 0.8970\n",
            "18/157, train_loss: 0.8436\n",
            "19/157, train_loss: 0.8772\n",
            "20/157, train_loss: 0.8719\n",
            "21/157, train_loss: 0.8200\n",
            "22/157, train_loss: 0.9191\n",
            "23/157, train_loss: 0.9106\n",
            "24/157, train_loss: 0.9148\n",
            "25/157, train_loss: 0.7251\n",
            "26/157, train_loss: 0.8445\n",
            "27/157, train_loss: 0.8121\n",
            "28/157, train_loss: 0.8400\n",
            "29/157, train_loss: 0.9029\n",
            "30/157, train_loss: 0.7991\n",
            "31/157, train_loss: 0.8028\n",
            "32/157, train_loss: 0.9254\n",
            "33/157, train_loss: 0.8584\n",
            "34/157, train_loss: 0.8281\n",
            "35/157, train_loss: 0.8608\n",
            "36/157, train_loss: 0.8968\n",
            "37/157, train_loss: 0.7718\n",
            "38/157, train_loss: 0.8452\n",
            "39/157, train_loss: 0.9080\n",
            "40/157, train_loss: 0.8298\n",
            "41/157, train_loss: 0.8081\n",
            "42/157, train_loss: 0.7345\n",
            "43/157, train_loss: 0.8788\n",
            "44/157, train_loss: 0.7850\n",
            "45/157, train_loss: 0.6737\n",
            "46/157, train_loss: 0.7386\n",
            "47/157, train_loss: 0.7653\n",
            "48/157, train_loss: 0.8994\n",
            "49/157, train_loss: 0.7043\n",
            "50/157, train_loss: 0.8349\n",
            "51/157, train_loss: 0.6632\n",
            "52/157, train_loss: 0.7930\n",
            "53/157, train_loss: 0.7343\n",
            "54/157, train_loss: 0.7562\n",
            "55/157, train_loss: 0.7890\n",
            "56/157, train_loss: 0.7549\n",
            "57/157, train_loss: 0.7707\n",
            "58/157, train_loss: 0.7924\n",
            "59/157, train_loss: 0.6458\n",
            "60/157, train_loss: 0.7179\n",
            "61/157, train_loss: 0.6302\n",
            "62/157, train_loss: 0.7283\n",
            "63/157, train_loss: 0.7317\n",
            "64/157, train_loss: 0.8290\n",
            "65/157, train_loss: 0.7049\n",
            "66/157, train_loss: 0.6010\n",
            "67/157, train_loss: 0.7490\n",
            "68/157, train_loss: 0.6926\n",
            "69/157, train_loss: 0.7104\n",
            "70/157, train_loss: 0.6294\n",
            "71/157, train_loss: 0.5850\n",
            "72/157, train_loss: 0.6501\n",
            "73/157, train_loss: 0.7089\n",
            "74/157, train_loss: 0.6312\n",
            "75/157, train_loss: 0.7644\n",
            "76/157, train_loss: 0.6688\n",
            "77/157, train_loss: 0.6883\n",
            "78/157, train_loss: 0.7533\n",
            "79/157, train_loss: 0.6855\n",
            "80/157, train_loss: 0.6989\n",
            "81/157, train_loss: 0.7772\n",
            "82/157, train_loss: 0.7152\n",
            "83/157, train_loss: 0.6663\n",
            "84/157, train_loss: 0.7598\n",
            "85/157, train_loss: 0.6692\n",
            "86/157, train_loss: 0.5964\n",
            "87/157, train_loss: 0.8529\n",
            "88/157, train_loss: 0.6844\n",
            "89/157, train_loss: 0.6179\n",
            "90/157, train_loss: 0.7619\n",
            "91/157, train_loss: 0.7377\n",
            "92/157, train_loss: 0.5859\n",
            "93/157, train_loss: 0.7292\n",
            "94/157, train_loss: 0.7267\n",
            "95/157, train_loss: 0.6709\n",
            "96/157, train_loss: 0.7327\n",
            "97/157, train_loss: 0.5858\n",
            "98/157, train_loss: 0.6119\n",
            "99/157, train_loss: 0.7817\n",
            "100/157, train_loss: 0.6631\n",
            "101/157, train_loss: 0.6132\n",
            "102/157, train_loss: 0.7103\n",
            "103/157, train_loss: 0.6265\n",
            "104/157, train_loss: 0.7396\n",
            "105/157, train_loss: 0.6506\n",
            "106/157, train_loss: 0.6792\n",
            "107/157, train_loss: 0.5557\n",
            "108/157, train_loss: 0.6624\n",
            "109/157, train_loss: 0.5122\n",
            "110/157, train_loss: 0.5714\n",
            "111/157, train_loss: 0.6135\n",
            "112/157, train_loss: 0.6059\n",
            "113/157, train_loss: 0.6658\n",
            "114/157, train_loss: 0.6927\n",
            "115/157, train_loss: 0.5841\n",
            "116/157, train_loss: 0.6547\n",
            "117/157, train_loss: 0.6971\n",
            "118/157, train_loss: 0.6162\n",
            "119/157, train_loss: 0.7655\n",
            "120/157, train_loss: 0.6591\n",
            "121/157, train_loss: 0.6728\n",
            "122/157, train_loss: 0.7328\n",
            "123/157, train_loss: 0.5964\n",
            "124/157, train_loss: 0.6578\n",
            "125/157, train_loss: 0.7399\n",
            "126/157, train_loss: 0.5540\n",
            "127/157, train_loss: 0.6212\n",
            "128/157, train_loss: 0.6616\n",
            "129/157, train_loss: 0.5159\n",
            "130/157, train_loss: 0.5602\n",
            "131/157, train_loss: 0.6330\n",
            "132/157, train_loss: 0.6857\n",
            "133/157, train_loss: 0.6394\n",
            "134/157, train_loss: 0.6022\n",
            "135/157, train_loss: 0.5504\n",
            "136/157, train_loss: 0.6113\n",
            "137/157, train_loss: 0.6260\n",
            "138/157, train_loss: 0.5883\n",
            "139/157, train_loss: 0.5233\n",
            "140/157, train_loss: 0.6141\n",
            "141/157, train_loss: 0.5941\n",
            "142/157, train_loss: 0.5427\n",
            "143/157, train_loss: 0.6387\n",
            "144/157, train_loss: 0.5710\n",
            "145/157, train_loss: 0.5799\n",
            "146/157, train_loss: 0.7381\n",
            "147/157, train_loss: 0.5267\n",
            "148/157, train_loss: 0.4646\n",
            "149/157, train_loss: 0.7035\n",
            "150/157, train_loss: 0.5467\n",
            "151/157, train_loss: 0.5268\n",
            "152/157, train_loss: 0.6033\n",
            "153/157, train_loss: 0.5709\n",
            "154/157, train_loss: 0.5007\n",
            "155/157, train_loss: 0.6413\n",
            "156/157, train_loss: 0.6197\n",
            "157/157, train_loss: 0.6516\n",
            "158/157, train_loss: 0.6160\n",
            "epoch 2 average loss: 0.7164\n",
            "saved new best metric model\n",
            "current epoch: 2 current AUC: 0.9700 current accuracy: 0.8363 best AUC: 0.9700 at epoch: 2\n",
            "----------\n",
            "epoch 3/4\n",
            "1/157, train_loss: 0.5493\n",
            "2/157, train_loss: 0.5815\n",
            "3/157, train_loss: 0.6057\n",
            "4/157, train_loss: 0.6232\n",
            "5/157, train_loss: 0.5328\n",
            "6/157, train_loss: 0.5714\n",
            "7/157, train_loss: 0.7321\n",
            "8/157, train_loss: 0.5893\n",
            "9/157, train_loss: 0.5457\n",
            "10/157, train_loss: 0.4946\n",
            "11/157, train_loss: 0.6813\n",
            "12/157, train_loss: 0.5099\n",
            "13/157, train_loss: 0.6727\n",
            "14/157, train_loss: 0.5706\n",
            "15/157, train_loss: 0.5647\n",
            "16/157, train_loss: 0.6403\n",
            "17/157, train_loss: 0.5299\n",
            "18/157, train_loss: 0.5178\n",
            "19/157, train_loss: 0.5194\n",
            "20/157, train_loss: 0.6714\n",
            "21/157, train_loss: 0.5806\n",
            "22/157, train_loss: 0.4793\n",
            "23/157, train_loss: 0.4757\n",
            "24/157, train_loss: 0.5260\n",
            "25/157, train_loss: 0.4640\n",
            "26/157, train_loss: 0.5210\n",
            "27/157, train_loss: 0.5074\n",
            "28/157, train_loss: 0.5483\n",
            "29/157, train_loss: 0.6578\n",
            "30/157, train_loss: 0.5729\n",
            "31/157, train_loss: 0.5816\n",
            "32/157, train_loss: 0.4820\n",
            "33/157, train_loss: 0.5422\n",
            "34/157, train_loss: 0.4491\n",
            "35/157, train_loss: 0.5698\n",
            "36/157, train_loss: 0.5494\n",
            "37/157, train_loss: 0.5325\n",
            "38/157, train_loss: 0.5043\n",
            "39/157, train_loss: 0.6346\n",
            "40/157, train_loss: 0.5227\n",
            "41/157, train_loss: 0.5830\n",
            "42/157, train_loss: 0.5474\n",
            "43/157, train_loss: 0.5357\n",
            "44/157, train_loss: 0.4746\n",
            "45/157, train_loss: 0.6382\n",
            "46/157, train_loss: 0.5705\n",
            "47/157, train_loss: 0.5510\n",
            "48/157, train_loss: 0.5242\n",
            "49/157, train_loss: 0.6488\n",
            "50/157, train_loss: 0.5266\n",
            "51/157, train_loss: 0.5420\n",
            "52/157, train_loss: 0.4831\n",
            "53/157, train_loss: 0.5349\n",
            "54/157, train_loss: 0.5610\n",
            "55/157, train_loss: 0.4636\n",
            "56/157, train_loss: 0.5021\n",
            "57/157, train_loss: 0.5432\n",
            "58/157, train_loss: 0.5397\n",
            "59/157, train_loss: 0.5731\n",
            "60/157, train_loss: 0.5809\n",
            "61/157, train_loss: 0.5364\n",
            "62/157, train_loss: 0.5769\n",
            "63/157, train_loss: 0.5358\n",
            "64/157, train_loss: 0.5196\n",
            "65/157, train_loss: 0.5584\n",
            "66/157, train_loss: 0.5147\n",
            "67/157, train_loss: 0.5270\n",
            "68/157, train_loss: 0.5422\n",
            "69/157, train_loss: 0.4770\n",
            "70/157, train_loss: 0.4652\n",
            "71/157, train_loss: 0.5480\n",
            "72/157, train_loss: 0.4860\n",
            "73/157, train_loss: 0.5370\n",
            "74/157, train_loss: 0.4754\n",
            "75/157, train_loss: 0.4803\n",
            "76/157, train_loss: 0.6064\n",
            "77/157, train_loss: 0.5274\n",
            "78/157, train_loss: 0.5622\n",
            "79/157, train_loss: 0.5080\n",
            "80/157, train_loss: 0.5702\n",
            "81/157, train_loss: 0.5159\n",
            "82/157, train_loss: 0.5068\n",
            "83/157, train_loss: 0.4967\n",
            "84/157, train_loss: 0.5560\n",
            "85/157, train_loss: 0.6986\n",
            "86/157, train_loss: 0.5133\n",
            "87/157, train_loss: 0.4955\n",
            "88/157, train_loss: 0.5055\n",
            "89/157, train_loss: 0.4611\n",
            "90/157, train_loss: 0.6803\n",
            "91/157, train_loss: 0.5709\n",
            "92/157, train_loss: 0.4669\n",
            "93/157, train_loss: 0.4557\n",
            "94/157, train_loss: 0.4949\n",
            "95/157, train_loss: 0.5733\n",
            "96/157, train_loss: 0.4542\n",
            "97/157, train_loss: 0.4661\n",
            "98/157, train_loss: 0.5766\n",
            "99/157, train_loss: 0.4877\n",
            "100/157, train_loss: 0.5583\n",
            "101/157, train_loss: 0.6364\n",
            "102/157, train_loss: 0.5066\n",
            "103/157, train_loss: 0.4888\n",
            "104/157, train_loss: 0.5852\n",
            "105/157, train_loss: 0.4716\n",
            "106/157, train_loss: 0.4999\n",
            "107/157, train_loss: 0.4649\n",
            "108/157, train_loss: 0.5346\n",
            "109/157, train_loss: 0.5293\n",
            "110/157, train_loss: 0.4238\n",
            "111/157, train_loss: 0.5466\n",
            "112/157, train_loss: 0.4616\n",
            "113/157, train_loss: 0.5052\n",
            "114/157, train_loss: 0.6064\n",
            "115/157, train_loss: 0.5949\n",
            "116/157, train_loss: 0.5409\n",
            "117/157, train_loss: 0.4707\n",
            "118/157, train_loss: 0.4474\n",
            "119/157, train_loss: 0.4462\n",
            "120/157, train_loss: 0.4622\n",
            "121/157, train_loss: 0.5159\n",
            "122/157, train_loss: 0.4722\n",
            "123/157, train_loss: 0.4369\n",
            "124/157, train_loss: 0.4489\n",
            "125/157, train_loss: 0.5210\n",
            "126/157, train_loss: 0.4629\n",
            "127/157, train_loss: 0.4781\n",
            "128/157, train_loss: 0.5193\n",
            "129/157, train_loss: 0.4464\n",
            "130/157, train_loss: 0.4986\n",
            "131/157, train_loss: 0.5012\n",
            "132/157, train_loss: 0.4994\n",
            "133/157, train_loss: 0.3797\n",
            "134/157, train_loss: 0.6195\n",
            "135/157, train_loss: 0.5787\n",
            "136/157, train_loss: 0.6220\n",
            "137/157, train_loss: 0.4666\n",
            "138/157, train_loss: 0.4595\n",
            "139/157, train_loss: 0.6022\n",
            "140/157, train_loss: 0.4975\n",
            "141/157, train_loss: 0.4820\n",
            "142/157, train_loss: 0.4100\n",
            "143/157, train_loss: 0.5426\n",
            "144/157, train_loss: 0.4405\n",
            "145/157, train_loss: 0.5374\n",
            "146/157, train_loss: 0.5677\n",
            "147/157, train_loss: 0.3920\n",
            "148/157, train_loss: 0.4062\n",
            "149/157, train_loss: 0.4826\n",
            "150/157, train_loss: 0.5400\n",
            "151/157, train_loss: 0.4744\n",
            "152/157, train_loss: 0.5143\n",
            "153/157, train_loss: 0.4403\n",
            "154/157, train_loss: 0.4539\n",
            "155/157, train_loss: 0.4712\n",
            "156/157, train_loss: 0.4354\n",
            "157/157, train_loss: 0.4506\n",
            "158/157, train_loss: 0.3561\n",
            "epoch 3 average loss: 0.5257\n",
            "saved new best metric model\n",
            "current epoch: 3 current AUC: 0.9760 current accuracy: 0.8738 best AUC: 0.9760 at epoch: 3\n",
            "----------\n",
            "epoch 4/4\n",
            "1/157, train_loss: 0.5863\n",
            "2/157, train_loss: 0.5404\n",
            "3/157, train_loss: 0.4849\n",
            "4/157, train_loss: 0.4774\n",
            "5/157, train_loss: 0.4512\n",
            "6/157, train_loss: 0.5215\n",
            "7/157, train_loss: 0.4353\n",
            "8/157, train_loss: 0.5095\n",
            "9/157, train_loss: 0.4554\n",
            "10/157, train_loss: 0.4785\n",
            "11/157, train_loss: 0.5049\n",
            "12/157, train_loss: 0.4566\n",
            "13/157, train_loss: 0.5469\n",
            "14/157, train_loss: 0.4275\n",
            "15/157, train_loss: 0.4718\n",
            "16/157, train_loss: 0.5071\n",
            "17/157, train_loss: 0.5132\n",
            "18/157, train_loss: 0.4541\n",
            "19/157, train_loss: 0.4492\n",
            "20/157, train_loss: 0.4995\n",
            "21/157, train_loss: 0.5250\n",
            "22/157, train_loss: 0.4624\n",
            "23/157, train_loss: 0.5394\n",
            "24/157, train_loss: 0.4818\n",
            "25/157, train_loss: 0.4072\n",
            "26/157, train_loss: 0.4382\n",
            "27/157, train_loss: 0.4396\n",
            "28/157, train_loss: 0.3830\n",
            "29/157, train_loss: 0.4707\n",
            "30/157, train_loss: 0.4234\n",
            "31/157, train_loss: 0.4267\n",
            "32/157, train_loss: 0.4572\n",
            "33/157, train_loss: 0.4466\n",
            "34/157, train_loss: 0.4497\n",
            "35/157, train_loss: 0.5660\n",
            "36/157, train_loss: 0.4598\n",
            "37/157, train_loss: 0.3581\n",
            "38/157, train_loss: 0.4814\n",
            "39/157, train_loss: 0.5087\n",
            "40/157, train_loss: 0.3623\n",
            "41/157, train_loss: 0.3868\n",
            "42/157, train_loss: 0.6047\n",
            "43/157, train_loss: 0.4358\n",
            "44/157, train_loss: 0.4999\n",
            "45/157, train_loss: 0.4486\n",
            "46/157, train_loss: 0.4578\n",
            "47/157, train_loss: 0.4168\n",
            "48/157, train_loss: 0.4020\n",
            "49/157, train_loss: 0.5152\n",
            "50/157, train_loss: 0.4025\n",
            "51/157, train_loss: 0.4186\n",
            "52/157, train_loss: 0.5009\n",
            "53/157, train_loss: 0.5116\n",
            "54/157, train_loss: 0.5302\n",
            "55/157, train_loss: 0.3855\n",
            "56/157, train_loss: 0.4429\n",
            "57/157, train_loss: 0.4044\n",
            "58/157, train_loss: 0.4649\n",
            "59/157, train_loss: 0.4190\n",
            "60/157, train_loss: 0.4986\n",
            "61/157, train_loss: 0.4514\n",
            "62/157, train_loss: 0.4390\n",
            "63/157, train_loss: 0.4406\n",
            "64/157, train_loss: 0.4615\n",
            "65/157, train_loss: 0.5001\n",
            "66/157, train_loss: 0.4262\n",
            "67/157, train_loss: 0.4890\n",
            "68/157, train_loss: 0.4599\n",
            "69/157, train_loss: 0.4946\n",
            "70/157, train_loss: 0.3850\n",
            "71/157, train_loss: 0.4877\n",
            "72/157, train_loss: 0.4788\n",
            "73/157, train_loss: 0.4401\n",
            "74/157, train_loss: 0.4445\n",
            "75/157, train_loss: 0.5024\n",
            "76/157, train_loss: 0.5144\n",
            "77/157, train_loss: 0.4148\n",
            "78/157, train_loss: 0.4155\n",
            "79/157, train_loss: 0.4714\n",
            "80/157, train_loss: 0.4851\n",
            "81/157, train_loss: 0.4078\n",
            "82/157, train_loss: 0.5027\n",
            "83/157, train_loss: 0.5024\n",
            "84/157, train_loss: 0.4542\n",
            "85/157, train_loss: 0.4146\n",
            "86/157, train_loss: 0.4415\n",
            "87/157, train_loss: 0.3846\n",
            "88/157, train_loss: 0.5429\n",
            "89/157, train_loss: 0.4038\n",
            "90/157, train_loss: 0.4354\n",
            "91/157, train_loss: 0.4272\n",
            "92/157, train_loss: 0.5470\n",
            "93/157, train_loss: 0.4448\n",
            "94/157, train_loss: 0.4125\n",
            "95/157, train_loss: 0.4929\n",
            "96/157, train_loss: 0.5091\n",
            "97/157, train_loss: 0.4324\n",
            "98/157, train_loss: 0.4192\n",
            "99/157, train_loss: 0.3565\n",
            "100/157, train_loss: 0.4556\n",
            "101/157, train_loss: 0.5031\n",
            "102/157, train_loss: 0.5392\n",
            "103/157, train_loss: 0.6026\n",
            "104/157, train_loss: 0.4178\n",
            "105/157, train_loss: 0.5708\n",
            "106/157, train_loss: 0.4165\n",
            "107/157, train_loss: 0.4797\n",
            "108/157, train_loss: 0.4250\n",
            "109/157, train_loss: 0.5128\n",
            "110/157, train_loss: 0.5147\n",
            "111/157, train_loss: 0.3275\n",
            "112/157, train_loss: 0.4920\n",
            "113/157, train_loss: 0.4741\n",
            "114/157, train_loss: 0.4747\n",
            "115/157, train_loss: 0.4468\n",
            "116/157, train_loss: 0.5148\n",
            "117/157, train_loss: 0.4725\n",
            "118/157, train_loss: 0.5407\n",
            "119/157, train_loss: 0.3731\n",
            "120/157, train_loss: 0.4657\n",
            "121/157, train_loss: 0.3963\n",
            "122/157, train_loss: 0.4563\n",
            "123/157, train_loss: 0.4090\n",
            "124/157, train_loss: 0.5026\n",
            "125/157, train_loss: 0.4681\n",
            "126/157, train_loss: 0.3502\n",
            "127/157, train_loss: 0.4133\n",
            "128/157, train_loss: 0.3795\n",
            "129/157, train_loss: 0.4347\n",
            "130/157, train_loss: 0.5051\n",
            "131/157, train_loss: 0.4197\n",
            "132/157, train_loss: 0.4339\n",
            "133/157, train_loss: 0.4575\n",
            "134/157, train_loss: 0.4728\n",
            "135/157, train_loss: 0.4238\n",
            "136/157, train_loss: 0.4366\n",
            "137/157, train_loss: 0.4662\n",
            "138/157, train_loss: 0.4160\n",
            "139/157, train_loss: 0.4213\n",
            "140/157, train_loss: 0.4671\n",
            "141/157, train_loss: 0.4211\n",
            "142/157, train_loss: 0.4509\n",
            "143/157, train_loss: 0.5421\n",
            "144/157, train_loss: 0.4499\n",
            "145/157, train_loss: 0.5303\n",
            "146/157, train_loss: 0.5540\n",
            "147/157, train_loss: 0.4860\n",
            "148/157, train_loss: 0.4073\n",
            "149/157, train_loss: 0.3125\n",
            "150/157, train_loss: 0.4085\n",
            "151/157, train_loss: 0.3436\n",
            "152/157, train_loss: 0.5487\n",
            "153/157, train_loss: 0.4500\n",
            "154/157, train_loss: 0.3180\n",
            "155/157, train_loss: 0.4115\n",
            "156/157, train_loss: 0.4474\n",
            "157/157, train_loss: 0.4603\n",
            "158/157, train_loss: 0.3748\n",
            "epoch 4 average loss: 0.4583\n",
            "saved new best metric model\n",
            "current epoch: 4 current AUC: 0.9801 current accuracy: 0.8831 best AUC: 0.9801 at epoch: 4\n",
            "train completed, best_metric: 0.9801 at epoch: 4\n"
          ]
        }
      ],
      "source": [
        "best_metric = -1\n",
        "best_metric_epoch = -1\n",
        "epoch_loss_values = []\n",
        "metric_values = []\n",
        "\n",
        "for epoch in range(max_epochs):\n",
        "    print(\"-\" * 10)\n",
        "    print(f\"epoch {epoch + 1}/{max_epochs}\")\n",
        "    model.train()\n",
        "    epoch_loss = 0\n",
        "    step = 0\n",
        "    for batch_data in train_loader:\n",
        "        step += 1\n",
        "        inputs, labels = batch_data[0].to(device), batch_data[1].to(device)\n",
        "        optimizer.zero_grad()\n",
        "        outputs = model(inputs)\n",
        "        loss = loss_function(outputs, labels)\n",
        "        loss.backward()\n",
        "        optimizer.step()\n",
        "        epoch_loss += loss.item()\n",
        "        print(\n",
        "            f\"{step}/{len(train_ds) // train_loader.batch_size}, \"\n",
        "            f\"train_loss: {loss.item():.4f}\")\n",
        "        epoch_len = len(train_ds) // train_loader.batch_size\n",
        "    epoch_loss /= step\n",
        "    epoch_loss_values.append(epoch_loss)\n",
        "    print(f\"epoch {epoch + 1} average loss: {epoch_loss:.4f}\")\n",
        "\n",
        "    if (epoch + 1) % val_interval == 0:\n",
        "        model.eval()\n",
        "        with torch.no_grad():\n",
        "            y_pred = torch.tensor([], dtype=torch.float32, device=device)\n",
        "            y = torch.tensor([], dtype=torch.long, device=device)\n",
        "            for val_data in val_loader:\n",
        "                val_images, val_labels = (\n",
        "                    val_data[0].to(device),\n",
        "                    val_data[1].to(device),\n",
        "                )\n",
        "                y_pred = torch.cat([y_pred, model(val_images)], dim=0)\n",
        "                y = torch.cat([y, val_labels], dim=0)\n",
        "            y_onehot = [y_trans(i) for i in decollate_batch(y, detach=False)]\n",
        "            y_pred_act = [y_pred_trans(i) for i in decollate_batch(y_pred)]\n",
        "            auc_metric(y_pred_act, y_onehot)\n",
        "            result = auc_metric.aggregate()\n",
        "            auc_metric.reset()\n",
        "            del y_pred_act, y_onehot\n",
        "            metric_values.append(result)\n",
        "            acc_value = torch.eq(y_pred.argmax(dim=1), y)\n",
        "            acc_metric = acc_value.sum().item() / len(acc_value)\n",
        "            if result > best_metric:\n",
        "                best_metric = result\n",
        "                best_metric_epoch = epoch + 1\n",
        "                torch.save(model.state_dict(), os.path.join(\n",
        "                    root_dir, \"best_metric_model.pth\"))\n",
        "                print(\"saved new best metric model\")\n",
        "            print(\n",
        "                f\"current epoch: {epoch + 1} current AUC: {result:.4f}\"\n",
        "                f\" current accuracy: {acc_metric:.4f}\"\n",
        "                f\" best AUC: {best_metric:.4f}\"\n",
        "                f\" at epoch: {best_metric_epoch}\"\n",
        "            )\n",
        "\n",
        "print(\n",
        "    f\"train completed, best_metric: {best_metric:.4f} \"\n",
        "    f\"at epoch: {best_metric_epoch}\")"
      ]
    },
    {
      "cell_type": "markdown",
      "metadata": {
        "id": "mv_7vY2HXH-L"
      },
      "source": [
        "## Plot the loss and metric"
      ]
    },
    {
      "cell_type": "code",
      "execution_count": null,
      "metadata": {
        "id": "Kz1u6zI4XH-L",
        "outputId": "58319800-d5b0-4345-d316-125629ffc9a0",
        "colab": {
          "base_uri": "https://localhost:8080/",
          "height": 404
        }
      },
      "outputs": [
        {
          "output_type": "display_data",
          "data": {
            "text/plain": [
              "<Figure size 864x432 with 2 Axes>"
            ],
            "image/png": "[encoded data removed]"
          },
          "metadata": {
            "needs_background": "light"
          }
        }
      ],
      "source": [
        "plt.figure(\"train\", (12, 6))\n",
        "plt.subplot(1, 2, 1)\n",
        "plt.title(\"Epoch Average Loss\")\n",
        "x = [i + 1 for i in range(len(epoch_loss_values))]\n",
        "y = epoch_loss_values\n",
        "plt.xlabel(\"epoch\")\n",
        "plt.plot(x, y)\n",
        "plt.subplot(1, 2, 2)\n",
        "plt.title(\"Val AUC\")\n",
        "x = [val_interval * (i + 1) for i in range(len(metric_values))]\n",
        "y = metric_values\n",
        "plt.xlabel(\"epoch\")\n",
        "plt.plot(x, y)\n",
        "plt.show()"
      ]
    },
    {
      "cell_type": "markdown",
      "metadata": {
        "id": "rRv5cZHzXH-L"
      },
      "source": [
        "## Evaluate the model on test dataset\n",
        "\n",
        "After training and validation, we already got the best model on validation test.  \n",
        "We need to evaluate the model on test dataset to check whether it's robust and not over-fitting.  \n",
        "We'll use these predictions to generate a classification report."
      ]
    },
    {
      "cell_type": "code",
      "execution_count": null,
      "metadata": {
        "id": "MWGnWW5fXH-L"
      },
      "outputs": [],
      "source": [
        "model.load_state_dict(torch.load(\n",
        "    os.path.join(root_dir, \"best_metric_model.pth\")))\n",
        "model.eval()\n",
        "y_true = []\n",
        "y_pred = []\n",
        "with torch.no_grad():\n",
        "    for test_data in test_loader:\n",
        "        test_images, test_labels = (\n",
        "            test_data[0].to(device),\n",
        "            test_data[1].to(device),\n",
        "        )\n",
        "        pred = model(test_images).argmax(dim=1)\n",
        "        for i in range(len(pred)):\n",
        "            y_true.append(test_labels[i].item())\n",
        "            y_pred.append(pred[i].item())"
      ]
    },
    {
      "cell_type": "code",
      "execution_count": null,
      "metadata": {
        "tags": [],
        "colab": {
          "base_uri": "https://localhost:8080/"
        },
        "id": "42gij0mJXH-L",
        "outputId": "abad7d4e-c9be-4ddf-8217-4eda9feba84a"
      },
      "outputs": [
        {
          "output_type": "stream",
          "name": "stdout",
          "text": [
            "              precision    recall  f1-score   support\n",
            "\n",
            "   AbdomenCT     0.6872    0.8281    0.7511       995\n",
            "   BreastMRI     0.9931    0.9852    0.9892       880\n",
            "         CXR     0.9570    0.9735    0.9652       982\n",
            "     ChestCT     0.8134    0.6923    0.7480      1014\n",
            "        Hand     0.9368    0.9055    0.9209      1048\n",
            "      HeadCT     0.8998    0.8740    0.8867       976\n",
            "\n",
            "    accuracy                         0.8738      5895\n",
            "   macro avg     0.8812    0.8765    0.8768      5895\n",
            "weighted avg     0.8791    0.8738    0.8744      5895\n",
            "\n"
          ]
        }
      ],
      "source": [
        "print(classification_report(\n",
        "    y_true, y_pred, target_names=class_names, digits=4))"
      ]
    },
    {
      "cell_type": "markdown",
      "metadata": {
        "id": "QyjO19N2XH-L"
      },
      "source": [
        "## Cleanup data directory\n",
        "\n",
        "Remove directory if a temporary was used."
      ]
    },
    {
      "cell_type": "code",
      "execution_count": null,
      "metadata": {
        "id": "XOtFaqPsXH-L"
      },
      "outputs": [],
      "source": [
        "if directory is None:\n",
        "    shutil.rmtree(root_dir)"
      ]
    }
  ],
  "metadata": {
    "kernelspec": {
      "display_name": "Python 3 (ipykernel)",
      "language": "python",
      "name": "python3"
    },
    "language_info": {
      "codemirror_mode": {
        "name": "ipython",
        "version": 3
      },
      "file_extension": ".py",
      "mimetype": "text/x-python",
      "name": "python",
      "nbconvert_exporter": "python",
      "pygments_lexer": "ipython3",
      "version": "3.8.13"
    },
    "colab": {
      "provenance": [],
      "include_colab_link": true
    },
    "accelerator": "GPU"
  },
  "nbformat": 4,
  "nbformat_minor": 0
}